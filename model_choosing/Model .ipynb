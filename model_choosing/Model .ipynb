{
 "cells": [
  {
   "cell_type": "code",
   "execution_count": 188,
   "metadata": {},
   "outputs": [],
   "source": [
    "import pandas as pd\n",
    "import s3fs\n",
    "import seaborn as sns\n",
    "import matplotlib.pyplot as plt\n",
    "from sklearn.metrics import mean_squared_error"
   ]
  },
  {
   "cell_type": "code",
   "execution_count": 189,
   "metadata": {},
   "outputs": [],
   "source": [
    "#here the i is for the period we want \n",
    "#note that we only have period 1 to 4 in our bucket because that is all we generated with our python script \n",
    "i = 1\n",
    "input_file = f\"s3://mlops-project-dataset-deen/paris-housing-dataset/ParisHousing_period_{i:02d}.parquet\"\n"
   ]
  },
  {
   "cell_type": "code",
   "execution_count": 190,
   "metadata": {},
   "outputs": [],
   "source": [
    "df = pd.read_parquet(input_file)"
   ]
  },
  {
   "cell_type": "code",
   "execution_count": 191,
   "metadata": {},
   "outputs": [
    {
     "data": {
      "text/html": [
       "<div>\n",
       "<style scoped>\n",
       "    .dataframe tbody tr th:only-of-type {\n",
       "        vertical-align: middle;\n",
       "    }\n",
       "\n",
       "    .dataframe tbody tr th {\n",
       "        vertical-align: top;\n",
       "    }\n",
       "\n",
       "    .dataframe thead th {\n",
       "        text-align: right;\n",
       "    }\n",
       "</style>\n",
       "<table border=\"1\" class=\"dataframe\">\n",
       "  <thead>\n",
       "    <tr style=\"text-align: right;\">\n",
       "      <th></th>\n",
       "      <th>index</th>\n",
       "      <th>squareMeters</th>\n",
       "      <th>numberOfRooms</th>\n",
       "      <th>hasYard</th>\n",
       "      <th>hasPool</th>\n",
       "      <th>floors</th>\n",
       "      <th>cityCode</th>\n",
       "      <th>cityPartRange</th>\n",
       "      <th>numPrevOwners</th>\n",
       "      <th>made</th>\n",
       "      <th>isNewBuilt</th>\n",
       "      <th>hasStormProtector</th>\n",
       "      <th>basement</th>\n",
       "      <th>attic</th>\n",
       "      <th>garage</th>\n",
       "      <th>hasStorageRoom</th>\n",
       "      <th>hasGuestRoom</th>\n",
       "      <th>price</th>\n",
       "      <th>category</th>\n",
       "    </tr>\n",
       "  </thead>\n",
       "  <tbody>\n",
       "    <tr>\n",
       "      <th>0</th>\n",
       "      <td>6681</td>\n",
       "      <td>58413</td>\n",
       "      <td>43</td>\n",
       "      <td>1</td>\n",
       "      <td>1</td>\n",
       "      <td>27</td>\n",
       "      <td>19305</td>\n",
       "      <td>3</td>\n",
       "      <td>10</td>\n",
       "      <td>1990</td>\n",
       "      <td>1</td>\n",
       "      <td>1</td>\n",
       "      <td>6367</td>\n",
       "      <td>6234</td>\n",
       "      <td>601</td>\n",
       "      <td>1</td>\n",
       "      <td>3</td>\n",
       "      <td>5852813.0</td>\n",
       "      <td>Luxury</td>\n",
       "    </tr>\n",
       "    <tr>\n",
       "      <th>1</th>\n",
       "      <td>7424</td>\n",
       "      <td>75898</td>\n",
       "      <td>97</td>\n",
       "      <td>0</td>\n",
       "      <td>1</td>\n",
       "      <td>6</td>\n",
       "      <td>33301</td>\n",
       "      <td>2</td>\n",
       "      <td>10</td>\n",
       "      <td>1990</td>\n",
       "      <td>1</td>\n",
       "      <td>1</td>\n",
       "      <td>6591</td>\n",
       "      <td>6169</td>\n",
       "      <td>411</td>\n",
       "      <td>0</td>\n",
       "      <td>8</td>\n",
       "      <td>7592058.0</td>\n",
       "      <td>Basic</td>\n",
       "    </tr>\n",
       "    <tr>\n",
       "      <th>2</th>\n",
       "      <td>9374</td>\n",
       "      <td>67417</td>\n",
       "      <td>68</td>\n",
       "      <td>0</td>\n",
       "      <td>0</td>\n",
       "      <td>67</td>\n",
       "      <td>3056</td>\n",
       "      <td>9</td>\n",
       "      <td>2</td>\n",
       "      <td>1990</td>\n",
       "      <td>1</td>\n",
       "      <td>0</td>\n",
       "      <td>1335</td>\n",
       "      <td>2071</td>\n",
       "      <td>815</td>\n",
       "      <td>1</td>\n",
       "      <td>8</td>\n",
       "      <td>6743688.0</td>\n",
       "      <td>Basic</td>\n",
       "    </tr>\n",
       "    <tr>\n",
       "      <th>3</th>\n",
       "      <td>4427</td>\n",
       "      <td>99291</td>\n",
       "      <td>89</td>\n",
       "      <td>0</td>\n",
       "      <td>0</td>\n",
       "      <td>40</td>\n",
       "      <td>38298</td>\n",
       "      <td>3</td>\n",
       "      <td>10</td>\n",
       "      <td>1990</td>\n",
       "      <td>1</td>\n",
       "      <td>1</td>\n",
       "      <td>4592</td>\n",
       "      <td>8562</td>\n",
       "      <td>369</td>\n",
       "      <td>1</td>\n",
       "      <td>1</td>\n",
       "      <td>9933729.0</td>\n",
       "      <td>Basic</td>\n",
       "    </tr>\n",
       "    <tr>\n",
       "      <th>4</th>\n",
       "      <td>5267</td>\n",
       "      <td>63720</td>\n",
       "      <td>18</td>\n",
       "      <td>0</td>\n",
       "      <td>1</td>\n",
       "      <td>59</td>\n",
       "      <td>12560</td>\n",
       "      <td>9</td>\n",
       "      <td>1</td>\n",
       "      <td>1990</td>\n",
       "      <td>0</td>\n",
       "      <td>1</td>\n",
       "      <td>279</td>\n",
       "      <td>5973</td>\n",
       "      <td>542</td>\n",
       "      <td>1</td>\n",
       "      <td>2</td>\n",
       "      <td>6380496.0</td>\n",
       "      <td>Basic</td>\n",
       "    </tr>\n",
       "  </tbody>\n",
       "</table>\n",
       "</div>"
      ],
      "text/plain": [
       "   index  squareMeters  numberOfRooms  hasYard  hasPool  floors  cityCode  \\\n",
       "0   6681         58413             43        1        1      27     19305   \n",
       "1   7424         75898             97        0        1       6     33301   \n",
       "2   9374         67417             68        0        0      67      3056   \n",
       "3   4427         99291             89        0        0      40     38298   \n",
       "4   5267         63720             18        0        1      59     12560   \n",
       "\n",
       "   cityPartRange  numPrevOwners  made  isNewBuilt  hasStormProtector  \\\n",
       "0              3             10  1990           1                  1   \n",
       "1              2             10  1990           1                  1   \n",
       "2              9              2  1990           1                  0   \n",
       "3              3             10  1990           1                  1   \n",
       "4              9              1  1990           0                  1   \n",
       "\n",
       "   basement  attic  garage  hasStorageRoom  hasGuestRoom      price category  \n",
       "0      6367   6234     601               1             3  5852813.0   Luxury  \n",
       "1      6591   6169     411               0             8  7592058.0    Basic  \n",
       "2      1335   2071     815               1             8  6743688.0    Basic  \n",
       "3      4592   8562     369               1             1  9933729.0    Basic  \n",
       "4       279   5973     542               1             2  6380496.0    Basic  "
      ]
     },
     "execution_count": 191,
     "metadata": {},
     "output_type": "execute_result"
    }
   ],
   "source": [
    "#we check the first few rows of the model \n",
    "df.head()"
   ]
  },
  {
   "cell_type": "markdown",
   "metadata": {},
   "source": [
    "### Here we do some exploratory data analysis "
   ]
  },
  {
   "cell_type": "code",
   "execution_count": 192,
   "metadata": {
    "collapsed": true
   },
   "outputs": [
    {
     "name": "stdout",
     "output_type": "stream",
     "text": [
      "<class 'pandas.core.frame.DataFrame'>\n",
      "RangeIndex: 2500 entries, 0 to 2499\n",
      "Data columns (total 19 columns):\n",
      " #   Column             Non-Null Count  Dtype  \n",
      "---  ------             --------------  -----  \n",
      " 0   index              2500 non-null   int64  \n",
      " 1   squareMeters       2500 non-null   int64  \n",
      " 2   numberOfRooms      2500 non-null   int64  \n",
      " 3   hasYard            2500 non-null   int64  \n",
      " 4   hasPool            2500 non-null   int64  \n",
      " 5   floors             2500 non-null   int64  \n",
      " 6   cityCode           2500 non-null   int64  \n",
      " 7   cityPartRange      2500 non-null   int64  \n",
      " 8   numPrevOwners      2500 non-null   int64  \n",
      " 9   made               2500 non-null   int64  \n",
      " 10  isNewBuilt         2500 non-null   int64  \n",
      " 11  hasStormProtector  2500 non-null   int64  \n",
      " 12  basement           2500 non-null   int64  \n",
      " 13  attic              2500 non-null   int64  \n",
      " 14  garage             2500 non-null   int64  \n",
      " 15  hasStorageRoom     2500 non-null   int64  \n",
      " 16  hasGuestRoom       2500 non-null   int64  \n",
      " 17  price              2500 non-null   float64\n",
      " 18  category           2500 non-null   object \n",
      "dtypes: float64(1), int64(17), object(1)\n",
      "memory usage: 371.2+ KB\n"
     ]
    }
   ],
   "source": [
    "df.info()"
   ]
  },
  {
   "cell_type": "code",
   "execution_count": 15,
   "metadata": {
    "collapsed": true
   },
   "outputs": [
    {
     "data": {
      "text/plain": [
       "index                0\n",
       "squareMeters         0\n",
       "numberOfRooms        0\n",
       "hasYard              0\n",
       "hasPool              0\n",
       "floors               0\n",
       "cityCode             0\n",
       "cityPartRange        0\n",
       "numPrevOwners        0\n",
       "made                 0\n",
       "isNewBuilt           0\n",
       "hasStormProtector    0\n",
       "basement             0\n",
       "attic                0\n",
       "garage               0\n",
       "hasStorageRoom       0\n",
       "hasGuestRoom         0\n",
       "price                0\n",
       "category             0\n",
       "dtype: int64"
      ]
     },
     "execution_count": 15,
     "metadata": {},
     "output_type": "execute_result"
    }
   ],
   "source": [
    "#we check the sim of the missing values \n",
    "#we have no missing values \n",
    "df.isnull().sum()"
   ]
  },
  {
   "cell_type": "code",
   "execution_count": 16,
   "metadata": {
    "collapsed": true
   },
   "outputs": [
    {
     "data": {
      "text/html": [
       "<div>\n",
       "<style scoped>\n",
       "    .dataframe tbody tr th:only-of-type {\n",
       "        vertical-align: middle;\n",
       "    }\n",
       "\n",
       "    .dataframe tbody tr th {\n",
       "        vertical-align: top;\n",
       "    }\n",
       "\n",
       "    .dataframe thead th {\n",
       "        text-align: right;\n",
       "    }\n",
       "</style>\n",
       "<table border=\"1\" class=\"dataframe\">\n",
       "  <thead>\n",
       "    <tr style=\"text-align: right;\">\n",
       "      <th></th>\n",
       "      <th>index</th>\n",
       "      <th>squareMeters</th>\n",
       "      <th>numberOfRooms</th>\n",
       "      <th>hasYard</th>\n",
       "      <th>hasPool</th>\n",
       "      <th>floors</th>\n",
       "      <th>cityCode</th>\n",
       "      <th>cityPartRange</th>\n",
       "      <th>numPrevOwners</th>\n",
       "      <th>made</th>\n",
       "      <th>isNewBuilt</th>\n",
       "      <th>hasStormProtector</th>\n",
       "      <th>basement</th>\n",
       "      <th>attic</th>\n",
       "      <th>garage</th>\n",
       "      <th>hasStorageRoom</th>\n",
       "      <th>hasGuestRoom</th>\n",
       "      <th>price</th>\n",
       "    </tr>\n",
       "  </thead>\n",
       "  <tbody>\n",
       "    <tr>\n",
       "      <th>count</th>\n",
       "      <td>2500.000000</td>\n",
       "      <td>2500.000000</td>\n",
       "      <td>2500.000000</td>\n",
       "      <td>2500.000000</td>\n",
       "      <td>2500.000000</td>\n",
       "      <td>2500.000000</td>\n",
       "      <td>2500.000000</td>\n",
       "      <td>2500.000000</td>\n",
       "      <td>2500.000000</td>\n",
       "      <td>2500.000000</td>\n",
       "      <td>2500.000000</td>\n",
       "      <td>2500.000000</td>\n",
       "      <td>2500.000000</td>\n",
       "      <td>2500.000000</td>\n",
       "      <td>2500.000000</td>\n",
       "      <td>2500.000000</td>\n",
       "      <td>2500.000000</td>\n",
       "      <td>2.500000e+03</td>\n",
       "    </tr>\n",
       "    <tr>\n",
       "      <th>mean</th>\n",
       "      <td>4996.421600</td>\n",
       "      <td>50076.237600</td>\n",
       "      <td>49.636400</td>\n",
       "      <td>0.509600</td>\n",
       "      <td>0.493200</td>\n",
       "      <td>50.000800</td>\n",
       "      <td>50535.241200</td>\n",
       "      <td>5.506400</td>\n",
       "      <td>5.506400</td>\n",
       "      <td>2001.430400</td>\n",
       "      <td>0.495200</td>\n",
       "      <td>0.495200</td>\n",
       "      <td>5014.677200</td>\n",
       "      <td>5027.427200</td>\n",
       "      <td>552.134800</td>\n",
       "      <td>0.497200</td>\n",
       "      <td>5.006000</td>\n",
       "      <td>5.014009e+06</td>\n",
       "    </tr>\n",
       "    <tr>\n",
       "      <th>std</th>\n",
       "      <td>2857.919813</td>\n",
       "      <td>28994.977744</td>\n",
       "      <td>28.695393</td>\n",
       "      <td>0.500008</td>\n",
       "      <td>0.500054</td>\n",
       "      <td>28.820678</td>\n",
       "      <td>28928.339032</td>\n",
       "      <td>2.868249</td>\n",
       "      <td>2.872988</td>\n",
       "      <td>2.330693</td>\n",
       "      <td>0.500077</td>\n",
       "      <td>0.500077</td>\n",
       "      <td>2875.825974</td>\n",
       "      <td>2900.768584</td>\n",
       "      <td>260.808453</td>\n",
       "      <td>0.500092</td>\n",
       "      <td>3.195442</td>\n",
       "      <td>2.899407e+06</td>\n",
       "    </tr>\n",
       "    <tr>\n",
       "      <th>min</th>\n",
       "      <td>0.000000</td>\n",
       "      <td>111.000000</td>\n",
       "      <td>1.000000</td>\n",
       "      <td>0.000000</td>\n",
       "      <td>0.000000</td>\n",
       "      <td>1.000000</td>\n",
       "      <td>3.000000</td>\n",
       "      <td>1.000000</td>\n",
       "      <td>1.000000</td>\n",
       "      <td>1997.000000</td>\n",
       "      <td>0.000000</td>\n",
       "      <td>0.000000</td>\n",
       "      <td>10.000000</td>\n",
       "      <td>7.000000</td>\n",
       "      <td>100.000000</td>\n",
       "      <td>0.000000</td>\n",
       "      <td>0.000000</td>\n",
       "      <td>1.443130e+04</td>\n",
       "    </tr>\n",
       "    <tr>\n",
       "      <th>25%</th>\n",
       "      <td>2518.750000</td>\n",
       "      <td>24740.750000</td>\n",
       "      <td>25.000000</td>\n",
       "      <td>0.000000</td>\n",
       "      <td>0.000000</td>\n",
       "      <td>25.000000</td>\n",
       "      <td>24919.750000</td>\n",
       "      <td>3.000000</td>\n",
       "      <td>3.000000</td>\n",
       "      <td>1999.000000</td>\n",
       "      <td>0.000000</td>\n",
       "      <td>0.000000</td>\n",
       "      <td>2482.750000</td>\n",
       "      <td>2568.250000</td>\n",
       "      <td>328.000000</td>\n",
       "      <td>0.000000</td>\n",
       "      <td>2.000000</td>\n",
       "      <td>2.478114e+06</td>\n",
       "    </tr>\n",
       "    <tr>\n",
       "      <th>50%</th>\n",
       "      <td>5021.000000</td>\n",
       "      <td>50301.000000</td>\n",
       "      <td>49.000000</td>\n",
       "      <td>1.000000</td>\n",
       "      <td>0.000000</td>\n",
       "      <td>51.000000</td>\n",
       "      <td>50687.500000</td>\n",
       "      <td>6.000000</td>\n",
       "      <td>5.000000</td>\n",
       "      <td>2001.000000</td>\n",
       "      <td>0.000000</td>\n",
       "      <td>0.000000</td>\n",
       "      <td>5075.500000</td>\n",
       "      <td>4997.000000</td>\n",
       "      <td>544.500000</td>\n",
       "      <td>0.000000</td>\n",
       "      <td>5.000000</td>\n",
       "      <td>5.038938e+06</td>\n",
       "    </tr>\n",
       "    <tr>\n",
       "      <th>75%</th>\n",
       "      <td>7408.750000</td>\n",
       "      <td>75131.250000</td>\n",
       "      <td>74.000000</td>\n",
       "      <td>1.000000</td>\n",
       "      <td>1.000000</td>\n",
       "      <td>75.000000</td>\n",
       "      <td>76277.250000</td>\n",
       "      <td>8.000000</td>\n",
       "      <td>8.000000</td>\n",
       "      <td>2003.000000</td>\n",
       "      <td>1.000000</td>\n",
       "      <td>1.000000</td>\n",
       "      <td>7484.750000</td>\n",
       "      <td>7533.250000</td>\n",
       "      <td>778.250000</td>\n",
       "      <td>1.000000</td>\n",
       "      <td>8.000000</td>\n",
       "      <td>7.517925e+06</td>\n",
       "    </tr>\n",
       "    <tr>\n",
       "      <th>max</th>\n",
       "      <td>9997.000000</td>\n",
       "      <td>99985.000000</td>\n",
       "      <td>100.000000</td>\n",
       "      <td>1.000000</td>\n",
       "      <td>1.000000</td>\n",
       "      <td>100.000000</td>\n",
       "      <td>99953.000000</td>\n",
       "      <td>10.000000</td>\n",
       "      <td>10.000000</td>\n",
       "      <td>2005.000000</td>\n",
       "      <td>1.000000</td>\n",
       "      <td>1.000000</td>\n",
       "      <td>9989.000000</td>\n",
       "      <td>9986.000000</td>\n",
       "      <td>1000.000000</td>\n",
       "      <td>1.000000</td>\n",
       "      <td>10.000000</td>\n",
       "      <td>1.000428e+07</td>\n",
       "    </tr>\n",
       "  </tbody>\n",
       "</table>\n",
       "</div>"
      ],
      "text/plain": [
       "             index  squareMeters  numberOfRooms      hasYard      hasPool  \\\n",
       "count  2500.000000   2500.000000    2500.000000  2500.000000  2500.000000   \n",
       "mean   4996.421600  50076.237600      49.636400     0.509600     0.493200   \n",
       "std    2857.919813  28994.977744      28.695393     0.500008     0.500054   \n",
       "min       0.000000    111.000000       1.000000     0.000000     0.000000   \n",
       "25%    2518.750000  24740.750000      25.000000     0.000000     0.000000   \n",
       "50%    5021.000000  50301.000000      49.000000     1.000000     0.000000   \n",
       "75%    7408.750000  75131.250000      74.000000     1.000000     1.000000   \n",
       "max    9997.000000  99985.000000     100.000000     1.000000     1.000000   \n",
       "\n",
       "            floors      cityCode  cityPartRange  numPrevOwners         made  \\\n",
       "count  2500.000000   2500.000000    2500.000000    2500.000000  2500.000000   \n",
       "mean     50.000800  50535.241200       5.506400       5.506400  2001.430400   \n",
       "std      28.820678  28928.339032       2.868249       2.872988     2.330693   \n",
       "min       1.000000      3.000000       1.000000       1.000000  1997.000000   \n",
       "25%      25.000000  24919.750000       3.000000       3.000000  1999.000000   \n",
       "50%      51.000000  50687.500000       6.000000       5.000000  2001.000000   \n",
       "75%      75.000000  76277.250000       8.000000       8.000000  2003.000000   \n",
       "max     100.000000  99953.000000      10.000000      10.000000  2005.000000   \n",
       "\n",
       "        isNewBuilt  hasStormProtector     basement        attic       garage  \\\n",
       "count  2500.000000        2500.000000  2500.000000  2500.000000  2500.000000   \n",
       "mean      0.495200           0.495200  5014.677200  5027.427200   552.134800   \n",
       "std       0.500077           0.500077  2875.825974  2900.768584   260.808453   \n",
       "min       0.000000           0.000000    10.000000     7.000000   100.000000   \n",
       "25%       0.000000           0.000000  2482.750000  2568.250000   328.000000   \n",
       "50%       0.000000           0.000000  5075.500000  4997.000000   544.500000   \n",
       "75%       1.000000           1.000000  7484.750000  7533.250000   778.250000   \n",
       "max       1.000000           1.000000  9989.000000  9986.000000  1000.000000   \n",
       "\n",
       "       hasStorageRoom  hasGuestRoom         price  \n",
       "count     2500.000000   2500.000000  2.500000e+03  \n",
       "mean         0.497200      5.006000  5.014009e+06  \n",
       "std          0.500092      3.195442  2.899407e+06  \n",
       "min          0.000000      0.000000  1.443130e+04  \n",
       "25%          0.000000      2.000000  2.478114e+06  \n",
       "50%          0.000000      5.000000  5.038938e+06  \n",
       "75%          1.000000      8.000000  7.517925e+06  \n",
       "max          1.000000     10.000000  1.000428e+07  "
      ]
     },
     "execution_count": 16,
     "metadata": {},
     "output_type": "execute_result"
    }
   ],
   "source": [
    "#we do some descriptive statistics\n",
    "#\n",
    "df.describe()"
   ]
  },
  {
   "cell_type": "code",
   "execution_count": 44,
   "metadata": {},
   "outputs": [
    {
     "data": {
      "text/plain": [
       "count    2.500000e+03\n",
       "mean     4.978221e+06\n",
       "std      2.867469e+06\n",
       "min      1.031350e+04\n",
       "50%      4.938377e+06\n",
       "95%      9.488480e+06\n",
       "98%      9.817505e+06\n",
       "99%      9.907187e+06\n",
       "max      1.000294e+07\n",
       "Name: price, dtype: float64"
      ]
     },
     "execution_count": 44,
     "metadata": {},
     "output_type": "execute_result"
    }
   ],
   "source": [
    "#checks the 95 98 99 percentiles\n",
    "df.price.describe(percentiles=[0.95, 0.98, 0.99])"
   ]
  },
  {
   "cell_type": "code",
   "execution_count": 193,
   "metadata": {},
   "outputs": [
    {
     "name": "stderr",
     "output_type": "stream",
     "text": [
      "/home/deen/.local/lib/python3.8/site-packages/seaborn/distributions.py:2619: FutureWarning: `distplot` is a deprecated function and will be removed in a future version. Please adapt your code to use either `displot` (a figure-level function with similar flexibility) or `histplot` (an axes-level function for histograms).\n",
      "  warnings.warn(msg, FutureWarning)\n"
     ]
    },
    {
     "data": {
      "text/plain": [
       "<AxesSubplot:xlabel='price', ylabel='Density'>"
      ]
     },
     "execution_count": 193,
     "metadata": {},
     "output_type": "execute_result"
    },
    {
     "data": {
      "image/png": "[encoded data removed]",
      "text/plain": [
       "<Figure size 432x288 with 1 Axes>"
      ]
     },
     "metadata": {
      "needs_background": "light"
     },
     "output_type": "display_data"
    }
   ],
   "source": [
    "#we check the distribution of the prices \n",
    "sns.distplot(df.price)"
   ]
  },
  {
   "cell_type": "code",
   "execution_count": 198,
   "metadata": {},
   "outputs": [
    {
     "data": {
      "text/plain": [
       "<AxesSubplot:ylabel='price'>"
      ]
     },
     "execution_count": 198,
     "metadata": {},
     "output_type": "execute_result"
    },
    {
     "data": {
      "image/png": "[encoded data removed]",
      "text/plain": [
       "<Figure size 432x288 with 1 Axes>"
      ]
     },
     "metadata": {
      "needs_background": "light"
     },
     "output_type": "display_data"
    }
   ],
   "source": [
    "#seems there are no outliers\n",
    "sns.boxplot(y=df.price)"
   ]
  },
  {
   "cell_type": "code",
   "execution_count": 199,
   "metadata": {},
   "outputs": [],
   "source": [
    "df_rooms = df.groupby('numberOfRooms').category.value_counts()"
   ]
  },
  {
   "cell_type": "code",
   "execution_count": 200,
   "metadata": {},
   "outputs": [
    {
     "data": {
      "text/plain": [
       "numberOfRooms  category\n",
       "1              2           21\n",
       "               1            1\n",
       "2              2           19\n",
       "               1            2\n",
       "3              2           28\n",
       "               1            6\n",
       "4              2           26\n",
       "               1            3\n",
       "5              2           19\n",
       "               1            4\n",
       "6              2           17\n",
       "               1            3\n",
       "7              2           19\n",
       "               1            4\n",
       "8              2           25\n",
       "               1            4\n",
       "9              2           16\n",
       "               1            3\n",
       "10             2           26\n",
       "               1            2\n",
       "11             2           21\n",
       "               1            3\n",
       "12             2           17\n",
       "               1            4\n",
       "13             2           19\n",
       "               1            3\n",
       "14             2           22\n",
       "               1            4\n",
       "15             2           18\n",
       "               1            8\n",
       "16             2           19\n",
       "               1            3\n",
       "17             2           26\n",
       "               1            4\n",
       "18             2           21\n",
       "               1            4\n",
       "19             2           24\n",
       "               1            3\n",
       "20             2           26\n",
       "               1            5\n",
       "21             2           31\n",
       "               1            6\n",
       "22             2           19\n",
       "               1            4\n",
       "23             2           31\n",
       "               1            3\n",
       "24             2           23\n",
       "               1            4\n",
       "25             2           15\n",
       "26             2           25\n",
       "               1            3\n",
       "27             2           22\n",
       "               1            6\n",
       "28             2           20\n",
       "               1            5\n",
       "29             2           18\n",
       "               1            1\n",
       "30             2           20\n",
       "               1            1\n",
       "31             2           18\n",
       "               1            6\n",
       "32             2           20\n",
       "               1           10\n",
       "33             2           28\n",
       "               1            2\n",
       "34             2           18\n",
       "               1            1\n",
       "35             2           22\n",
       "               1            4\n",
       "36             2           17\n",
       "               1            4\n",
       "37             2           19\n",
       "               1            5\n",
       "38             2           21\n",
       "               1            4\n",
       "39             2           14\n",
       "40             2           26\n",
       "               1            3\n",
       "41             2           23\n",
       "               1            5\n",
       "42             2           21\n",
       "               1            2\n",
       "43             2           27\n",
       "               1            4\n",
       "44             2           26\n",
       "               1            3\n",
       "45             2           22\n",
       "46             2           19\n",
       "               1            3\n",
       "47             2           18\n",
       "               1            5\n",
       "48             2           23\n",
       "               1            2\n",
       "49             2           19\n",
       "               1            2\n",
       "50             2           26\n",
       "               1            4\n",
       "51             2           19\n",
       "               1            2\n",
       "52             2           18\n",
       "               1            2\n",
       "53             2           25\n",
       "               1            3\n",
       "54             2           25\n",
       "               1            1\n",
       "55             2           26\n",
       "               1            4\n",
       "56             2           18\n",
       "57             2           28\n",
       "               1            2\n",
       "58             2           32\n",
       "               1            5\n",
       "59             2           20\n",
       "               1            2\n",
       "60             2           19\n",
       "               1            2\n",
       "61             2           18\n",
       "               1            7\n",
       "62             2           18\n",
       "               1            1\n",
       "63             2           22\n",
       "               1            3\n",
       "64             2           23\n",
       "               1            6\n",
       "65             2           26\n",
       "               1            4\n",
       "66             2           21\n",
       "               1            2\n",
       "67             2           14\n",
       "               1            1\n",
       "68             2           22\n",
       "               1            3\n",
       "69             2           23\n",
       "               1            6\n",
       "70             2           19\n",
       "               1            2\n",
       "71             2           30\n",
       "               1            7\n",
       "72             2           13\n",
       "               1            4\n",
       "73             2           23\n",
       "               1            6\n",
       "74             2           22\n",
       "               1            4\n",
       "75             2           21\n",
       "               1            2\n",
       "76             2           17\n",
       "               1            5\n",
       "77             2           20\n",
       "               1            1\n",
       "78             2           19\n",
       "               1            3\n",
       "79             2           24\n",
       "               1            4\n",
       "80             2           23\n",
       "               1            2\n",
       "81             2           29\n",
       "               1            1\n",
       "82             2           23\n",
       "               1            2\n",
       "83             2           27\n",
       "               1            5\n",
       "84             2           28\n",
       "               1            1\n",
       "85             2           15\n",
       "               1            2\n",
       "86             2           18\n",
       "               1            5\n",
       "87             2           19\n",
       "               1            3\n",
       "88             2           21\n",
       "               1            3\n",
       "89             2           28\n",
       "               1            4\n",
       "90             2           23\n",
       "               1            2\n",
       "91             2           19\n",
       "               1            4\n",
       "92             2           16\n",
       "               1            2\n",
       "93             2           15\n",
       "               1            1\n",
       "94             2           19\n",
       "               1            1\n",
       "95             2           21\n",
       "               1            3\n",
       "96             2           26\n",
       "               1            5\n",
       "97             2           16\n",
       "               1            2\n",
       "98             2           26\n",
       "               1            1\n",
       "99             2           25\n",
       "               1            3\n",
       "100            2           31\n",
       "               1            6\n",
       "Name: category, dtype: int64"
      ]
     },
     "metadata": {},
     "output_type": "display_data"
    }
   ],
   "source": [
    "#here we look at the difference between the basic and luxury appartments when it comes to qty of rooms\n",
    "with pd.option_context(\"display.max_rows\", None):\n",
    "    display(df_rooms)"
   ]
  },
  {
   "cell_type": "code",
   "execution_count": 201,
   "metadata": {},
   "outputs": [],
   "source": [
    "#here we drop the category column\n",
    "df['category'] = pd.factorize(df['category'])[0] + 1\n",
    "dataset = df"
   ]
  },
  {
   "cell_type": "code",
   "execution_count": 202,
   "metadata": {},
   "outputs": [
    {
     "data": {
      "text/plain": [
       "<AxesSubplot:>"
      ]
     },
     "execution_count": 202,
     "metadata": {},
     "output_type": "execute_result"
    },
    {
     "data": {
      "image/png": "[encoded data removed]",
      "text/plain": [
       "<Figure size 1080x360 with 2 Axes>"
      ]
     },
     "metadata": {
      "needs_background": "light"
     },
     "output_type": "display_data"
    }
   ],
   "source": [
    "#we create a heatmap to see which categories influence the price of house\n",
    "corr = dataset.corr()\n",
    "#we choose the size of the figure \n",
    "fig, ax = plt.subplots(figsize=(15, 5))\n",
    "#choosing the color of the heatmap with annotation\n",
    "sns.heatmap(corr, cmap='RdBu', annot=True, fmt=\".2f\")\n"
   ]
  },
  {
   "cell_type": "code",
   "execution_count": 203,
   "metadata": {},
   "outputs": [
    {
     "data": {
      "image/png": "[encoded data removed]",
      "text/plain": [
       "<Figure size 360x360 with 1 Axes>"
      ]
     },
     "metadata": {
      "needs_background": "light"
     },
     "output_type": "display_data"
    }
   ],
   "source": [
    "#we plot the squaremeters and the price \n",
    "fig, ax1 = plt.subplots(figsize=(5, 5))\n",
    "sns.regplot(x=\"squareMeters\", y=\"price\", data=df);"
   ]
  },
  {
   "cell_type": "markdown",
   "metadata": {},
   "source": [
    "### from the correlation heatmap we can see that the square meter has a very strong correclation with the price of the houses"
   ]
  },
  {
   "cell_type": "code",
   "execution_count": 204,
   "metadata": {},
   "outputs": [
    {
     "data": {
      "text/plain": [
       "index                  int64\n",
       "squareMeters           int64\n",
       "numberOfRooms          int64\n",
       "hasYard                int64\n",
       "hasPool                int64\n",
       "floors                 int64\n",
       "cityCode               int64\n",
       "cityPartRange          int64\n",
       "numPrevOwners          int64\n",
       "made                   int64\n",
       "isNewBuilt             int64\n",
       "hasStormProtector      int64\n",
       "basement               int64\n",
       "attic                  int64\n",
       "garage                 int64\n",
       "hasStorageRoom         int64\n",
       "hasGuestRoom           int64\n",
       "price                float64\n",
       "category               int64\n",
       "dtype: object"
      ]
     },
     "execution_count": 204,
     "metadata": {},
     "output_type": "execute_result"
    }
   ],
   "source": [
    "df.dtypes"
   ]
  },
  {
   "cell_type": "code",
   "execution_count": 205,
   "metadata": {},
   "outputs": [],
   "source": [
    "#we try different models "
   ]
  },
  {
   "cell_type": "code",
   "execution_count": 206,
   "metadata": {},
   "outputs": [],
   "source": [
    "def read_dataframe(filename):\n",
    "    #we read the file\n",
    "    if filename.endswith('.parquet'):\n",
    "        df = pd.read_parquet(filename)\n",
    "    #we are using the squaremeter as feature for the model\n",
    "    return  df    "
   ]
  },
  {
   "cell_type": "code",
   "execution_count": 207,
   "metadata": {},
   "outputs": [],
   "source": [
    "#we you period 1 as our training dataset \n",
    "i = 1\n",
    "input_file = f\"s3://mlops-project-dataset-deen/paris-housing-dataset/ParisHousing_period_{i:02d}.parquet\"\n",
    "df_train = read_dataframe(input_file)"
   ]
  },
  {
   "cell_type": "code",
   "execution_count": 208,
   "metadata": {},
   "outputs": [],
   "source": [
    "#we use period 2 as our validation dataset\n",
    "i = 2\n",
    "input_file = f\"s3://mlops-project-dataset-deen/paris-housing-dataset/ParisHousing_period_{i:02d}.parquet\"\n",
    "df_val = read_dataframe(input_file)"
   ]
  },
  {
   "cell_type": "code",
   "execution_count": 209,
   "metadata": {},
   "outputs": [],
   "source": [
    "#we choose the feature here \n",
    "numerical = ['squareMeters']\n",
    "categorical = ['category']\n",
    "df_train_data = df_train[numerical + categorical]\n",
    "df_val_data = df_val[numerical + categorical] "
   ]
  },
  {
   "cell_type": "code",
   "execution_count": 210,
   "metadata": {},
   "outputs": [],
   "source": [
    "#we convert the columns to a dictionary\n",
    "train_dicts = df_train_data[numerical + categorical].to_dict(orient='records')\n",
    "val_dicts = df_train_data[numerical + categorical].to_dict(orient='records')"
   ]
  },
  {
   "cell_type": "code",
   "execution_count": 211,
   "metadata": {},
   "outputs": [],
   "source": [
    "from sklearn.feature_extraction import DictVectorizer\n",
    "from sklearn.linear_model import LinearRegression"
   ]
  },
  {
   "cell_type": "code",
   "execution_count": 212,
   "metadata": {},
   "outputs": [],
   "source": [
    "#dictionary to vector converter\n",
    "dv = DictVectorizer()\n",
    "\n",
    "#dictionary to vector conversion, here we use fit because its for training\n",
    "X_train = dv.fit_transform(train_dicts)\n",
    "\n",
    "#here we use transorm because its for validation\n",
    "X_val = dv.transform(val_dicts)"
   ]
  },
  {
   "cell_type": "code",
   "execution_count": 213,
   "metadata": {},
   "outputs": [],
   "source": [
    "#for this model, our interest is the price of the house \n",
    "target = 'price'\n",
    "y_train = df_train[target].values\n",
    "y_val = df_val[target].values"
   ]
  },
  {
   "cell_type": "code",
   "execution_count": 214,
   "metadata": {},
   "outputs": [
    {
     "data": {
      "text/plain": [
       "['category=Basic', 'category=Luxury', 'squareMeters']"
      ]
     },
     "execution_count": 214,
     "metadata": {},
     "output_type": "execute_result"
    }
   ],
   "source": [
    "#to verify the feature used by the vectorizer \n",
    "dv.feature_names_"
   ]
  },
  {
   "cell_type": "code",
   "execution_count": 215,
   "metadata": {},
   "outputs": [],
   "source": [
    "#we check the shape of the matrix\n",
    "#X_train.shape"
   ]
  },
  {
   "cell_type": "code",
   "execution_count": 216,
   "metadata": {},
   "outputs": [
    {
     "data": {
      "text/html": [
       "<style>#sk-container-id-2 {color: black;background-color: white;}#sk-container-id-2 pre{padding: 0;}#sk-container-id-2 div.sk-toggleable {background-color: white;}#sk-container-id-2 label.sk-toggleable__label {cursor: pointer;display: block;width: 100%;margin-bottom: 0;padding: 0.3em;box-sizing: border-box;text-align: center;}#sk-container-id-2 label.sk-toggleable__label-arrow:before {content: \"▸\";float: left;margin-right: 0.25em;color: #696969;}#sk-container-id-2 label.sk-toggleable__label-arrow:hover:before {color: black;}#sk-container-id-2 div.sk-estimator:hover label.sk-toggleable__label-arrow:before {color: black;}#sk-container-id-2 div.sk-toggleable__content {max-height: 0;max-width: 0;overflow: hidden;text-align: left;background-color: #f0f8ff;}#sk-container-id-2 div.sk-toggleable__content pre {margin: 0.2em;color: black;border-radius: 0.25em;background-color: #f0f8ff;}#sk-container-id-2 input.sk-toggleable__control:checked~div.sk-toggleable__content {max-height: 200px;max-width: 100%;overflow: auto;}#sk-container-id-2 input.sk-toggleable__control:checked~label.sk-toggleable__label-arrow:before {content: \"▾\";}#sk-container-id-2 div.sk-estimator input.sk-toggleable__control:checked~label.sk-toggleable__label {background-color: #d4ebff;}#sk-container-id-2 div.sk-label input.sk-toggleable__control:checked~label.sk-toggleable__label {background-color: #d4ebff;}#sk-container-id-2 input.sk-hidden--visually {border: 0;clip: rect(1px 1px 1px 1px);clip: rect(1px, 1px, 1px, 1px);height: 1px;margin: -1px;overflow: hidden;padding: 0;position: absolute;width: 1px;}#sk-container-id-2 div.sk-estimator {font-family: monospace;background-color: #f0f8ff;border: 1px dotted black;border-radius: 0.25em;box-sizing: border-box;margin-bottom: 0.5em;}#sk-container-id-2 div.sk-estimator:hover {background-color: #d4ebff;}#sk-container-id-2 div.sk-parallel-item::after {content: \"\";width: 100%;border-bottom: 1px solid gray;flex-grow: 1;}#sk-container-id-2 div.sk-label:hover label.sk-toggleable__label {background-color: #d4ebff;}#sk-container-id-2 div.sk-serial::before {content: \"\";position: absolute;border-left: 1px solid gray;box-sizing: border-box;top: 0;bottom: 0;left: 50%;z-index: 0;}#sk-container-id-2 div.sk-serial {display: flex;flex-direction: column;align-items: center;background-color: white;padding-right: 0.2em;padding-left: 0.2em;position: relative;}#sk-container-id-2 div.sk-item {position: relative;z-index: 1;}#sk-container-id-2 div.sk-parallel {display: flex;align-items: stretch;justify-content: center;background-color: white;position: relative;}#sk-container-id-2 div.sk-item::before, #sk-container-id-2 div.sk-parallel-item::before {content: \"\";position: absolute;border-left: 1px solid gray;box-sizing: border-box;top: 0;bottom: 0;left: 50%;z-index: -1;}#sk-container-id-2 div.sk-parallel-item {display: flex;flex-direction: column;z-index: 1;position: relative;background-color: white;}#sk-container-id-2 div.sk-parallel-item:first-child::after {align-self: flex-end;width: 50%;}#sk-container-id-2 div.sk-parallel-item:last-child::after {align-self: flex-start;width: 50%;}#sk-container-id-2 div.sk-parallel-item:only-child::after {width: 0;}#sk-container-id-2 div.sk-dashed-wrapped {border: 1px dashed gray;margin: 0 0.4em 0.5em 0.4em;box-sizing: border-box;padding-bottom: 0.4em;background-color: white;}#sk-container-id-2 div.sk-label label {font-family: monospace;font-weight: bold;display: inline-block;line-height: 1.2em;}#sk-container-id-2 div.sk-label-container {text-align: center;}#sk-container-id-2 div.sk-container {/* jupyter's `normalize.less` sets `[hidden] { display: none; }` but bootstrap.min.css set `[hidden] { display: none !important; }` so we also need the `!important` here to be able to override the default hidden behavior on the sphinx rendered scikit-learn.org. See: https://github.com/scikit-learn/scikit-learn/issues/21755 */display: inline-block !important;position: relative;}#sk-container-id-2 div.sk-text-repr-fallback {display: none;}</style><div id=\"sk-container-id-2\" class=\"sk-top-container\"><div class=\"sk-text-repr-fallback\"><pre>LinearRegression()</pre><b>In a Jupyter environment, please rerun this cell to show the HTML representation or trust the notebook. <br />On GitHub, the HTML representation is unable to render, please try loading this page with nbviewer.org.</b></div><div class=\"sk-container\" hidden><div class=\"sk-item\"><div class=\"sk-estimator sk-toggleable\"><input class=\"sk-toggleable__control sk-hidden--visually\" id=\"sk-estimator-id-2\" type=\"checkbox\" checked><label for=\"sk-estimator-id-2\" class=\"sk-toggleable__label sk-toggleable__label-arrow\">LinearRegression</label><div class=\"sk-toggleable__content\"><pre>LinearRegression()</pre></div></div></div></div></div>"
      ],
      "text/plain": [
       "LinearRegression()"
      ]
     },
     "execution_count": 216,
     "metadata": {},
     "output_type": "execute_result"
    }
   ],
   "source": [
    "#we store the linear regression as regressor_linear\n",
    "regressor_linear = LinearRegression()\n",
    "#we fit the model\n",
    "regressor_linear.fit(X_train, y_train)"
   ]
  },
  {
   "cell_type": "code",
   "execution_count": 217,
   "metadata": {},
   "outputs": [],
   "source": [
    "#here we try to predict the values of y_val which is the house price\n",
    "#using the real x_train which is the squaremeters \n",
    "y_pred = regressor_linear.predict(X_train)"
   ]
  },
  {
   "cell_type": "code",
   "execution_count": 218,
   "metadata": {},
   "outputs": [
    {
     "data": {
      "text/plain": [
       "4137274.4605151843"
      ]
     },
     "execution_count": 218,
     "metadata": {},
     "output_type": "execute_result"
    }
   ],
   "source": [
    "#we compute the mean squared error between the predicted and the real values \n",
    "mean_squared_error(y_val, y_pred, squared=False)"
   ]
  },
  {
   "cell_type": "code",
   "execution_count": 219,
   "metadata": {},
   "outputs": [
    {
     "name": "stderr",
     "output_type": "stream",
     "text": [
      "/home/deen/.local/lib/python3.8/site-packages/seaborn/distributions.py:2619: FutureWarning: `distplot` is a deprecated function and will be removed in a future version. Please adapt your code to use either `displot` (a figure-level function with similar flexibility) or `histplot` (an axes-level function for histograms).\n",
      "  warnings.warn(msg, FutureWarning)\n",
      "/home/deen/.local/lib/python3.8/site-packages/seaborn/distributions.py:2619: FutureWarning: `distplot` is a deprecated function and will be removed in a future version. Please adapt your code to use either `displot` (a figure-level function with similar flexibility) or `histplot` (an axes-level function for histograms).\n",
      "  warnings.warn(msg, FutureWarning)\n"
     ]
    },
    {
     "data": {
      "text/plain": [
       "<matplotlib.legend.Legend at 0x7f6a7e94e430>"
      ]
     },
     "execution_count": 219,
     "metadata": {},
     "output_type": "execute_result"
    },
    {
     "data": {
      "image/png": "[encoded data removed]",
      "text/plain": [
       "<Figure size 432x288 with 1 Axes>"
      ]
     },
     "metadata": {
      "needs_background": "light"
     },
     "output_type": "display_data"
    }
   ],
   "source": [
    "#we get the graphical view of the house we predicted and compare it with the actual house price \n",
    "sns.distplot(y_pred, label='prediction')\n",
    "sns.distplot(y_train, label='actual')\n",
    "\n",
    "plt.legend()"
   ]
  },
  {
   "cell_type": "code",
   "execution_count": null,
   "metadata": {},
   "outputs": [],
   "source": []
  }
 ],
 "metadata": {
  "kernelspec": {
   "display_name": "Python 3",
   "language": "python",
   "name": "python3"
  },
  "language_info": {
   "codemirror_mode": {
    "name": "ipython",
    "version": 3
   },
   "file_extension": ".py",
   "mimetype": "text/x-python",
   "name": "python",
   "nbconvert_exporter": "python",
   "pygments_lexer": "ipython3",
   "version": "3.8.10"
  }
 },
 "nbformat": 4,
 "nbformat_minor": 4
}
