{
 "cells": [
  {
   "cell_type": "code",
   "execution_count": null,
   "metadata": {},
   "outputs": [],
   "source": [
    "import pandas as pd\n",
    "import logging\n",
    "import boto3\n",
    "from botocore.exceptions import ClientError\n",
    "import numpy as np \n",
    "import kaggle"
   ]
  },
  {
   "cell_type": "raw",
   "metadata": {},
   "source": [
    "!export KAGGLE_USERNAME=yusufkamorudeen\n",
    "!export KAGGLE_KEY=f5779e2007b3e41b613275a975fd5a7c\n",
    "!sudo kaggle datasets download -d mssmartypants/paris-housing-classification"
   ]
  },
  {
   "cell_type": "code",
   "execution_count": 2,
   "metadata": {},
   "outputs": [],
   "source": [
    "#we are writing a fuction to help us load the file to aws s3 bucket \n",
    "def upload_file(file_name, bucket, object_name=None):\n",
    "    # Upload the file\n",
    "    s3_client = boto3.client('s3')\n",
    "    try:\n",
    "        response = s3_client.upload_file(file_name, bucket, object_name)\n",
    "    except ClientError as e:\n",
    "        logging.error(e)\n",
    "        return False\n",
    "    print(\"uploaded {} to bucket {} \".format(object_name, bucket))"
   ]
  },
  {
   "cell_type": "code",
   "execution_count": 3,
   "metadata": {},
   "outputs": [],
   "source": [
    "#here the function converts the file to parquet and uploads to the s3 bucket \n",
    "def convert_to_parquet(dataset):\n",
    "    for i in range(len(dataset)):\n",
    "        dataset[i].to_parquet(f'data/ParisHousing_period_{i + 1:02d}.parquet')\n",
    "        \n",
    "        file_name = f\"/home/deen/Desktop/datatalks/Mlops-project/dataset/python_script/data/ParisHousing_period_{i + 1:02d}.parquet\"\n",
    "        bucket = \"mlops-project-dataset-deen\"\n",
    "        object_name = f\"paris-housing-dataset/ParisHousing_period_{i + 1:02d}.parquet\"\n",
    "        upload_file(file_name, bucket, object_name)"
   ]
  },
  {
   "cell_type": "code",
   "execution_count": 10,
   "metadata": {},
   "outputs": [],
   "source": [
    "df = pd.read_csv(\"../archive/ParisHousingClass.csv\")\n",
    "df.sort_values(by=['made'], inplace=True)\n",
    "df = df.reset_index()\n"
   ]
  },
  {
   "cell_type": "code",
   "execution_count": 11,
   "metadata": {},
   "outputs": [],
   "source": [
    "np.split(df,4)\n",
    "period_01 = np.split(df,4)[0]\n",
    "period_02 = np.split(df,4)[1]\n",
    "period_03 = np.split(df,4)[2]\n",
    "period_04 = np.split(df,4)[3]"
   ]
  },
  {
   "cell_type": "code",
   "execution_count": 12,
   "metadata": {},
   "outputs": [],
   "source": [
    "data = [period_01,period_02,period_03,period_04]"
   ]
  },
  {
   "cell_type": "code",
   "execution_count": 13,
   "metadata": {},
   "outputs": [
    {
     "name": "stdout",
     "output_type": "stream",
     "text": [
      "mkdir: cannot create directory ‘data’: File exists\r\n"
     ]
    }
   ],
   "source": [
    "!mkdir data"
   ]
  },
  {
   "cell_type": "code",
   "execution_count": 8,
   "metadata": {},
   "outputs": [
    {
     "name": "stdout",
     "output_type": "stream",
     "text": [
      "uploaded paris-housing-dataset/ParisHousing_period_01.parquet to bucket mlops-project-dataset-deen \n",
      "uploaded paris-housing-dataset/ParisHousing_period_02.parquet to bucket mlops-project-dataset-deen \n",
      "uploaded paris-housing-dataset/ParisHousing_period_03.parquet to bucket mlops-project-dataset-deen \n",
      "uploaded paris-housing-dataset/ParisHousing_period_04.parquet to bucket mlops-project-dataset-deen \n"
     ]
    }
   ],
   "source": [
    "convert_to_parquet(data)"
   ]
  }
 ],
 "metadata": {
  "kernelspec": {
   "display_name": "Python 3",
   "language": "python",
   "name": "python3"
  },
  "language_info": {
   "codemirror_mode": {
    "name": "ipython",
    "version": 3
   },
   "file_extension": ".py",
   "mimetype": "text/x-python",
   "name": "python",
   "nbconvert_exporter": "python",
   "pygments_lexer": "ipython3",
   "version": "3.8.10"
  }
 },
 "nbformat": 4,
 "nbformat_minor": 4
}
