{
 "cells": [
  {
   "cell_type": "code",
   "execution_count": 1,
   "metadata": {},
   "outputs": [],
   "source": [
    "import pandas as pd\n",
    "import s3fs\n",
    "import seaborn as sns\n",
    "import matplotlib.pyplot as plt\n",
    "from sklearn.metrics import mean_squared_error\n",
    "from sklearn.feature_extraction import DictVectorizer\n",
    "from sklearn.linear_model import LinearRegression\n",
    "from sklearn.linear_model import Lasso\n",
    "from sklearn.linear_model import Ridge"
   ]
  },
  {
   "cell_type": "code",
   "execution_count": 2,
   "metadata": {},
   "outputs": [],
   "source": [
    "#here the i is for the period we want \n",
    "#note that we only have period 1 to 4 in our bucket because that is all we generated with our python script \n",
    "i = 1\n",
    "input_file = f\"s3://mlops-project-dataset-deen/paris-housing-dataset/ParisHousing_period_{i:02d}.parquet\"\n"
   ]
  },
  {
   "cell_type": "code",
   "execution_count": 3,
   "metadata": {},
   "outputs": [],
   "source": [
    "df = pd.read_parquet(input_file)"
   ]
  },
  {
   "cell_type": "code",
   "execution_count": 4,
   "metadata": {},
   "outputs": [
    {
     "data": {
      "text/html": [
       "<div>\n",
       "<style scoped>\n",
       "    .dataframe tbody tr th:only-of-type {\n",
       "        vertical-align: middle;\n",
       "    }\n",
       "\n",
       "    .dataframe tbody tr th {\n",
       "        vertical-align: top;\n",
       "    }\n",
       "\n",
       "    .dataframe thead th {\n",
       "        text-align: right;\n",
       "    }\n",
       "</style>\n",
       "<table border=\"1\" class=\"dataframe\">\n",
       "  <thead>\n",
       "    <tr style=\"text-align: right;\">\n",
       "      <th></th>\n",
       "      <th>index</th>\n",
       "      <th>squareMeters</th>\n",
       "      <th>numberOfRooms</th>\n",
       "      <th>hasYard</th>\n",
       "      <th>hasPool</th>\n",
       "      <th>floors</th>\n",
       "      <th>cityCode</th>\n",
       "      <th>cityPartRange</th>\n",
       "      <th>numPrevOwners</th>\n",
       "      <th>made</th>\n",
       "      <th>isNewBuilt</th>\n",
       "      <th>hasStormProtector</th>\n",
       "      <th>basement</th>\n",
       "      <th>attic</th>\n",
       "      <th>garage</th>\n",
       "      <th>hasStorageRoom</th>\n",
       "      <th>hasGuestRoom</th>\n",
       "      <th>price</th>\n",
       "      <th>category</th>\n",
       "    </tr>\n",
       "  </thead>\n",
       "  <tbody>\n",
       "    <tr>\n",
       "      <th>0</th>\n",
       "      <td>6681</td>\n",
       "      <td>58413</td>\n",
       "      <td>43</td>\n",
       "      <td>1</td>\n",
       "      <td>1</td>\n",
       "      <td>27</td>\n",
       "      <td>19305</td>\n",
       "      <td>3</td>\n",
       "      <td>10</td>\n",
       "      <td>1990</td>\n",
       "      <td>1</td>\n",
       "      <td>1</td>\n",
       "      <td>6367</td>\n",
       "      <td>6234</td>\n",
       "      <td>601</td>\n",
       "      <td>1</td>\n",
       "      <td>3</td>\n",
       "      <td>5852813.0</td>\n",
       "      <td>Luxury</td>\n",
       "    </tr>\n",
       "    <tr>\n",
       "      <th>1</th>\n",
       "      <td>7424</td>\n",
       "      <td>75898</td>\n",
       "      <td>97</td>\n",
       "      <td>0</td>\n",
       "      <td>1</td>\n",
       "      <td>6</td>\n",
       "      <td>33301</td>\n",
       "      <td>2</td>\n",
       "      <td>10</td>\n",
       "      <td>1990</td>\n",
       "      <td>1</td>\n",
       "      <td>1</td>\n",
       "      <td>6591</td>\n",
       "      <td>6169</td>\n",
       "      <td>411</td>\n",
       "      <td>0</td>\n",
       "      <td>8</td>\n",
       "      <td>7592058.0</td>\n",
       "      <td>Basic</td>\n",
       "    </tr>\n",
       "    <tr>\n",
       "      <th>2</th>\n",
       "      <td>9374</td>\n",
       "      <td>67417</td>\n",
       "      <td>68</td>\n",
       "      <td>0</td>\n",
       "      <td>0</td>\n",
       "      <td>67</td>\n",
       "      <td>3056</td>\n",
       "      <td>9</td>\n",
       "      <td>2</td>\n",
       "      <td>1990</td>\n",
       "      <td>1</td>\n",
       "      <td>0</td>\n",
       "      <td>1335</td>\n",
       "      <td>2071</td>\n",
       "      <td>815</td>\n",
       "      <td>1</td>\n",
       "      <td>8</td>\n",
       "      <td>6743688.0</td>\n",
       "      <td>Basic</td>\n",
       "    </tr>\n",
       "    <tr>\n",
       "      <th>3</th>\n",
       "      <td>4427</td>\n",
       "      <td>99291</td>\n",
       "      <td>89</td>\n",
       "      <td>0</td>\n",
       "      <td>0</td>\n",
       "      <td>40</td>\n",
       "      <td>38298</td>\n",
       "      <td>3</td>\n",
       "      <td>10</td>\n",
       "      <td>1990</td>\n",
       "      <td>1</td>\n",
       "      <td>1</td>\n",
       "      <td>4592</td>\n",
       "      <td>8562</td>\n",
       "      <td>369</td>\n",
       "      <td>1</td>\n",
       "      <td>1</td>\n",
       "      <td>9933729.0</td>\n",
       "      <td>Basic</td>\n",
       "    </tr>\n",
       "    <tr>\n",
       "      <th>4</th>\n",
       "      <td>5267</td>\n",
       "      <td>63720</td>\n",
       "      <td>18</td>\n",
       "      <td>0</td>\n",
       "      <td>1</td>\n",
       "      <td>59</td>\n",
       "      <td>12560</td>\n",
       "      <td>9</td>\n",
       "      <td>1</td>\n",
       "      <td>1990</td>\n",
       "      <td>0</td>\n",
       "      <td>1</td>\n",
       "      <td>279</td>\n",
       "      <td>5973</td>\n",
       "      <td>542</td>\n",
       "      <td>1</td>\n",
       "      <td>2</td>\n",
       "      <td>6380496.0</td>\n",
       "      <td>Basic</td>\n",
       "    </tr>\n",
       "  </tbody>\n",
       "</table>\n",
       "</div>"
      ],
      "text/plain": [
       "   index  squareMeters  numberOfRooms  hasYard  hasPool  floors  cityCode  \\\n",
       "0   6681         58413             43        1        1      27     19305   \n",
       "1   7424         75898             97        0        1       6     33301   \n",
       "2   9374         67417             68        0        0      67      3056   \n",
       "3   4427         99291             89        0        0      40     38298   \n",
       "4   5267         63720             18        0        1      59     12560   \n",
       "\n",
       "   cityPartRange  numPrevOwners  made  isNewBuilt  hasStormProtector  \\\n",
       "0              3             10  1990           1                  1   \n",
       "1              2             10  1990           1                  1   \n",
       "2              9              2  1990           1                  0   \n",
       "3              3             10  1990           1                  1   \n",
       "4              9              1  1990           0                  1   \n",
       "\n",
       "   basement  attic  garage  hasStorageRoom  hasGuestRoom      price category  \n",
       "0      6367   6234     601               1             3  5852813.0   Luxury  \n",
       "1      6591   6169     411               0             8  7592058.0    Basic  \n",
       "2      1335   2071     815               1             8  6743688.0    Basic  \n",
       "3      4592   8562     369               1             1  9933729.0    Basic  \n",
       "4       279   5973     542               1             2  6380496.0    Basic  "
      ]
     },
     "execution_count": 4,
     "metadata": {},
     "output_type": "execute_result"
    }
   ],
   "source": [
    "#we check the first few rows of the model \n",
    "df.head()"
   ]
  },
  {
   "cell_type": "markdown",
   "metadata": {},
   "source": [
    "### Here we do some exploratory data analysis "
   ]
  },
  {
   "cell_type": "code",
   "execution_count": 5,
   "metadata": {},
   "outputs": [
    {
     "name": "stdout",
     "output_type": "stream",
     "text": [
      "<class 'pandas.core.frame.DataFrame'>\n",
      "RangeIndex: 2500 entries, 0 to 2499\n",
      "Data columns (total 19 columns):\n",
      " #   Column             Non-Null Count  Dtype  \n",
      "---  ------             --------------  -----  \n",
      " 0   index              2500 non-null   int64  \n",
      " 1   squareMeters       2500 non-null   int64  \n",
      " 2   numberOfRooms      2500 non-null   int64  \n",
      " 3   hasYard            2500 non-null   int64  \n",
      " 4   hasPool            2500 non-null   int64  \n",
      " 5   floors             2500 non-null   int64  \n",
      " 6   cityCode           2500 non-null   int64  \n",
      " 7   cityPartRange      2500 non-null   int64  \n",
      " 8   numPrevOwners      2500 non-null   int64  \n",
      " 9   made               2500 non-null   int64  \n",
      " 10  isNewBuilt         2500 non-null   int64  \n",
      " 11  hasStormProtector  2500 non-null   int64  \n",
      " 12  basement           2500 non-null   int64  \n",
      " 13  attic              2500 non-null   int64  \n",
      " 14  garage             2500 non-null   int64  \n",
      " 15  hasStorageRoom     2500 non-null   int64  \n",
      " 16  hasGuestRoom       2500 non-null   int64  \n",
      " 17  price              2500 non-null   float64\n",
      " 18  category           2500 non-null   object \n",
      "dtypes: float64(1), int64(17), object(1)\n",
      "memory usage: 371.2+ KB\n"
     ]
    }
   ],
   "source": [
    "df.info()"
   ]
  },
  {
   "cell_type": "code",
   "execution_count": 6,
   "metadata": {},
   "outputs": [
    {
     "data": {
      "text/plain": [
       "index                0\n",
       "squareMeters         0\n",
       "numberOfRooms        0\n",
       "hasYard              0\n",
       "hasPool              0\n",
       "floors               0\n",
       "cityCode             0\n",
       "cityPartRange        0\n",
       "numPrevOwners        0\n",
       "made                 0\n",
       "isNewBuilt           0\n",
       "hasStormProtector    0\n",
       "basement             0\n",
       "attic                0\n",
       "garage               0\n",
       "hasStorageRoom       0\n",
       "hasGuestRoom         0\n",
       "price                0\n",
       "category             0\n",
       "dtype: int64"
      ]
     },
     "execution_count": 6,
     "metadata": {},
     "output_type": "execute_result"
    }
   ],
   "source": [
    "#we check the sim of the missing values \n",
    "#we have no missing values \n",
    "df.isnull().sum()"
   ]
  },
  {
   "cell_type": "code",
   "execution_count": 7,
   "metadata": {},
   "outputs": [
    {
     "data": {
      "text/html": [
       "<div>\n",
       "<style scoped>\n",
       "    .dataframe tbody tr th:only-of-type {\n",
       "        vertical-align: middle;\n",
       "    }\n",
       "\n",
       "    .dataframe tbody tr th {\n",
       "        vertical-align: top;\n",
       "    }\n",
       "\n",
       "    .dataframe thead th {\n",
       "        text-align: right;\n",
       "    }\n",
       "</style>\n",
       "<table border=\"1\" class=\"dataframe\">\n",
       "  <thead>\n",
       "    <tr style=\"text-align: right;\">\n",
       "      <th></th>\n",
       "      <th>index</th>\n",
       "      <th>squareMeters</th>\n",
       "      <th>numberOfRooms</th>\n",
       "      <th>hasYard</th>\n",
       "      <th>hasPool</th>\n",
       "      <th>floors</th>\n",
       "      <th>cityCode</th>\n",
       "      <th>cityPartRange</th>\n",
       "      <th>numPrevOwners</th>\n",
       "      <th>made</th>\n",
       "      <th>isNewBuilt</th>\n",
       "      <th>hasStormProtector</th>\n",
       "      <th>basement</th>\n",
       "      <th>attic</th>\n",
       "      <th>garage</th>\n",
       "      <th>hasStorageRoom</th>\n",
       "      <th>hasGuestRoom</th>\n",
       "      <th>price</th>\n",
       "    </tr>\n",
       "  </thead>\n",
       "  <tbody>\n",
       "    <tr>\n",
       "      <th>count</th>\n",
       "      <td>2500.00000</td>\n",
       "      <td>2500.000000</td>\n",
       "      <td>2500.000000</td>\n",
       "      <td>2500.000000</td>\n",
       "      <td>2500.000000</td>\n",
       "      <td>2500.000000</td>\n",
       "      <td>2500.000000</td>\n",
       "      <td>2500.000000</td>\n",
       "      <td>2500.000000</td>\n",
       "      <td>2500.000000</td>\n",
       "      <td>2500.0000</td>\n",
       "      <td>2500.000000</td>\n",
       "      <td>2500.000000</td>\n",
       "      <td>2500.000000</td>\n",
       "      <td>2500.000000</td>\n",
       "      <td>2500.000000</td>\n",
       "      <td>2500.000000</td>\n",
       "      <td>2.500000e+03</td>\n",
       "    </tr>\n",
       "    <tr>\n",
       "      <th>mean</th>\n",
       "      <td>4960.34560</td>\n",
       "      <td>49717.466400</td>\n",
       "      <td>50.375600</td>\n",
       "      <td>0.505200</td>\n",
       "      <td>0.503600</td>\n",
       "      <td>50.197600</td>\n",
       "      <td>49519.428800</td>\n",
       "      <td>5.510400</td>\n",
       "      <td>5.510800</td>\n",
       "      <td>1993.377600</td>\n",
       "      <td>0.4996</td>\n",
       "      <td>0.506800</td>\n",
       "      <td>5086.601600</td>\n",
       "      <td>4944.752400</td>\n",
       "      <td>548.526000</td>\n",
       "      <td>0.514400</td>\n",
       "      <td>5.029600</td>\n",
       "      <td>4.978221e+06</td>\n",
       "    </tr>\n",
       "    <tr>\n",
       "      <th>std</th>\n",
       "      <td>2881.76989</td>\n",
       "      <td>28674.269798</td>\n",
       "      <td>28.918317</td>\n",
       "      <td>0.500073</td>\n",
       "      <td>0.500087</td>\n",
       "      <td>29.162735</td>\n",
       "      <td>29139.542249</td>\n",
       "      <td>2.873951</td>\n",
       "      <td>2.857192</td>\n",
       "      <td>2.253231</td>\n",
       "      <td>0.5001</td>\n",
       "      <td>0.500054</td>\n",
       "      <td>2902.081264</td>\n",
       "      <td>2898.927461</td>\n",
       "      <td>262.154159</td>\n",
       "      <td>0.499893</td>\n",
       "      <td>3.212235</td>\n",
       "      <td>2.867469e+06</td>\n",
       "    </tr>\n",
       "    <tr>\n",
       "      <th>min</th>\n",
       "      <td>4.00000</td>\n",
       "      <td>89.000000</td>\n",
       "      <td>1.000000</td>\n",
       "      <td>0.000000</td>\n",
       "      <td>0.000000</td>\n",
       "      <td>1.000000</td>\n",
       "      <td>24.000000</td>\n",
       "      <td>1.000000</td>\n",
       "      <td>1.000000</td>\n",
       "      <td>1990.000000</td>\n",
       "      <td>0.0000</td>\n",
       "      <td>0.000000</td>\n",
       "      <td>0.000000</td>\n",
       "      <td>1.000000</td>\n",
       "      <td>100.000000</td>\n",
       "      <td>0.000000</td>\n",
       "      <td>0.000000</td>\n",
       "      <td>1.031350e+04</td>\n",
       "    </tr>\n",
       "    <tr>\n",
       "      <th>25%</th>\n",
       "      <td>2563.75000</td>\n",
       "      <td>25572.500000</td>\n",
       "      <td>25.000000</td>\n",
       "      <td>0.000000</td>\n",
       "      <td>0.000000</td>\n",
       "      <td>25.000000</td>\n",
       "      <td>23351.000000</td>\n",
       "      <td>3.000000</td>\n",
       "      <td>3.000000</td>\n",
       "      <td>1991.000000</td>\n",
       "      <td>0.0000</td>\n",
       "      <td>0.000000</td>\n",
       "      <td>2642.250000</td>\n",
       "      <td>2401.750000</td>\n",
       "      <td>322.750000</td>\n",
       "      <td>0.000000</td>\n",
       "      <td>2.000000</td>\n",
       "      <td>2.563086e+06</td>\n",
       "    </tr>\n",
       "    <tr>\n",
       "      <th>50%</th>\n",
       "      <td>4849.00000</td>\n",
       "      <td>49356.500000</td>\n",
       "      <td>50.000000</td>\n",
       "      <td>1.000000</td>\n",
       "      <td>1.000000</td>\n",
       "      <td>50.000000</td>\n",
       "      <td>50565.000000</td>\n",
       "      <td>5.000000</td>\n",
       "      <td>6.000000</td>\n",
       "      <td>1993.000000</td>\n",
       "      <td>0.0000</td>\n",
       "      <td>1.000000</td>\n",
       "      <td>5215.500000</td>\n",
       "      <td>4914.500000</td>\n",
       "      <td>552.000000</td>\n",
       "      <td>1.000000</td>\n",
       "      <td>5.000000</td>\n",
       "      <td>4.938377e+06</td>\n",
       "    </tr>\n",
       "    <tr>\n",
       "      <th>75%</th>\n",
       "      <td>7429.00000</td>\n",
       "      <td>74705.250000</td>\n",
       "      <td>75.000000</td>\n",
       "      <td>1.000000</td>\n",
       "      <td>1.000000</td>\n",
       "      <td>76.000000</td>\n",
       "      <td>75339.750000</td>\n",
       "      <td>8.000000</td>\n",
       "      <td>8.000000</td>\n",
       "      <td>1995.000000</td>\n",
       "      <td>1.0000</td>\n",
       "      <td>1.000000</td>\n",
       "      <td>7613.500000</td>\n",
       "      <td>7462.000000</td>\n",
       "      <td>770.250000</td>\n",
       "      <td>1.000000</td>\n",
       "      <td>8.000000</td>\n",
       "      <td>7.476535e+06</td>\n",
       "    </tr>\n",
       "    <tr>\n",
       "      <th>max</th>\n",
       "      <td>9999.00000</td>\n",
       "      <td>99932.000000</td>\n",
       "      <td>100.000000</td>\n",
       "      <td>1.000000</td>\n",
       "      <td>1.000000</td>\n",
       "      <td>100.000000</td>\n",
       "      <td>99921.000000</td>\n",
       "      <td>10.000000</td>\n",
       "      <td>10.000000</td>\n",
       "      <td>1997.000000</td>\n",
       "      <td>1.0000</td>\n",
       "      <td>1.000000</td>\n",
       "      <td>9997.000000</td>\n",
       "      <td>9984.000000</td>\n",
       "      <td>1000.000000</td>\n",
       "      <td>1.000000</td>\n",
       "      <td>10.000000</td>\n",
       "      <td>1.000294e+07</td>\n",
       "    </tr>\n",
       "  </tbody>\n",
       "</table>\n",
       "</div>"
      ],
      "text/plain": [
       "            index  squareMeters  numberOfRooms      hasYard      hasPool  \\\n",
       "count  2500.00000   2500.000000    2500.000000  2500.000000  2500.000000   \n",
       "mean   4960.34560  49717.466400      50.375600     0.505200     0.503600   \n",
       "std    2881.76989  28674.269798      28.918317     0.500073     0.500087   \n",
       "min       4.00000     89.000000       1.000000     0.000000     0.000000   \n",
       "25%    2563.75000  25572.500000      25.000000     0.000000     0.000000   \n",
       "50%    4849.00000  49356.500000      50.000000     1.000000     1.000000   \n",
       "75%    7429.00000  74705.250000      75.000000     1.000000     1.000000   \n",
       "max    9999.00000  99932.000000     100.000000     1.000000     1.000000   \n",
       "\n",
       "            floors      cityCode  cityPartRange  numPrevOwners         made  \\\n",
       "count  2500.000000   2500.000000    2500.000000    2500.000000  2500.000000   \n",
       "mean     50.197600  49519.428800       5.510400       5.510800  1993.377600   \n",
       "std      29.162735  29139.542249       2.873951       2.857192     2.253231   \n",
       "min       1.000000     24.000000       1.000000       1.000000  1990.000000   \n",
       "25%      25.000000  23351.000000       3.000000       3.000000  1991.000000   \n",
       "50%      50.000000  50565.000000       5.000000       6.000000  1993.000000   \n",
       "75%      76.000000  75339.750000       8.000000       8.000000  1995.000000   \n",
       "max     100.000000  99921.000000      10.000000      10.000000  1997.000000   \n",
       "\n",
       "       isNewBuilt  hasStormProtector     basement        attic       garage  \\\n",
       "count   2500.0000        2500.000000  2500.000000  2500.000000  2500.000000   \n",
       "mean       0.4996           0.506800  5086.601600  4944.752400   548.526000   \n",
       "std        0.5001           0.500054  2902.081264  2898.927461   262.154159   \n",
       "min        0.0000           0.000000     0.000000     1.000000   100.000000   \n",
       "25%        0.0000           0.000000  2642.250000  2401.750000   322.750000   \n",
       "50%        0.0000           1.000000  5215.500000  4914.500000   552.000000   \n",
       "75%        1.0000           1.000000  7613.500000  7462.000000   770.250000   \n",
       "max        1.0000           1.000000  9997.000000  9984.000000  1000.000000   \n",
       "\n",
       "       hasStorageRoom  hasGuestRoom         price  \n",
       "count     2500.000000   2500.000000  2.500000e+03  \n",
       "mean         0.514400      5.029600  4.978221e+06  \n",
       "std          0.499893      3.212235  2.867469e+06  \n",
       "min          0.000000      0.000000  1.031350e+04  \n",
       "25%          0.000000      2.000000  2.563086e+06  \n",
       "50%          1.000000      5.000000  4.938377e+06  \n",
       "75%          1.000000      8.000000  7.476535e+06  \n",
       "max          1.000000     10.000000  1.000294e+07  "
      ]
     },
     "execution_count": 7,
     "metadata": {},
     "output_type": "execute_result"
    }
   ],
   "source": [
    "#we do some descriptive statistics\n",
    "#\n",
    "df.describe()"
   ]
  },
  {
   "cell_type": "code",
   "execution_count": 8,
   "metadata": {},
   "outputs": [
    {
     "data": {
      "text/plain": [
       "count    2.500000e+03\n",
       "mean     4.978221e+06\n",
       "std      2.867469e+06\n",
       "min      1.031350e+04\n",
       "50%      4.938377e+06\n",
       "95%      9.488480e+06\n",
       "98%      9.817505e+06\n",
       "99%      9.907187e+06\n",
       "max      1.000294e+07\n",
       "Name: price, dtype: float64"
      ]
     },
     "execution_count": 8,
     "metadata": {},
     "output_type": "execute_result"
    }
   ],
   "source": [
    "#checks the 95 98 99 percentiles\n",
    "df.price.describe(percentiles=[0.95, 0.98, 0.99])"
   ]
  },
  {
   "cell_type": "code",
   "execution_count": 9,
   "metadata": {},
   "outputs": [
    {
     "name": "stderr",
     "output_type": "stream",
     "text": [
      "/home/deen/anaconda3/envs/project/lib/python3.10/site-packages/seaborn/distributions.py:2619: FutureWarning: `distplot` is a deprecated function and will be removed in a future version. Please adapt your code to use either `displot` (a figure-level function with similar flexibility) or `histplot` (an axes-level function for histograms).\n",
      "  warnings.warn(msg, FutureWarning)\n"
     ]
    },
    {
     "data": {
      "text/plain": [
       "<AxesSubplot:xlabel='price', ylabel='Density'>"
      ]
     },
     "execution_count": 9,
     "metadata": {},
     "output_type": "execute_result"
    },
    {
     "data": {
      "image/png": "[encoded data removed]",
      "text/plain": [
       "<Figure size 432x288 with 1 Axes>"
      ]
     },
     "metadata": {
      "needs_background": "light"
     },
     "output_type": "display_data"
    }
   ],
   "source": [
    "#we check the distribution of the prices \n",
    "sns.distplot(df.price)"
   ]
  },
  {
   "cell_type": "code",
   "execution_count": 10,
   "metadata": {},
   "outputs": [
    {
     "data": {
      "text/plain": [
       "<AxesSubplot:ylabel='price'>"
      ]
     },
     "execution_count": 10,
     "metadata": {},
     "output_type": "execute_result"
    },
    {
     "data": {
      "image/png": "[encoded data removed]",
      "text/plain": [
       "<Figure size 432x288 with 1 Axes>"
      ]
     },
     "metadata": {
      "needs_background": "light"
     },
     "output_type": "display_data"
    }
   ],
   "source": [
    "#seems there are no outliers\n",
    "sns.boxplot(y=df.price)"
   ]
  },
  {
   "cell_type": "code",
   "execution_count": 11,
   "metadata": {},
   "outputs": [],
   "source": [
    "df_rooms = df.groupby('numberOfRooms').category.value_counts()"
   ]
  },
  {
   "cell_type": "code",
   "execution_count": 12,
   "metadata": {
    "scrolled": true
   },
   "outputs": [
    {
     "data": {
      "text/plain": [
       "numberOfRooms  category\n",
       "1              Basic       21\n",
       "               Luxury       1\n",
       "2              Basic       19\n",
       "               Luxury       2\n",
       "3              Basic       28\n",
       "               Luxury       6\n",
       "4              Basic       26\n",
       "               Luxury       3\n",
       "5              Basic       19\n",
       "               Luxury       4\n",
       "6              Basic       17\n",
       "               Luxury       3\n",
       "7              Basic       19\n",
       "               Luxury       4\n",
       "8              Basic       25\n",
       "               Luxury       4\n",
       "9              Basic       16\n",
       "               Luxury       3\n",
       "10             Basic       26\n",
       "               Luxury       2\n",
       "11             Basic       21\n",
       "               Luxury       3\n",
       "12             Basic       17\n",
       "               Luxury       4\n",
       "13             Basic       19\n",
       "               Luxury       3\n",
       "14             Basic       22\n",
       "               Luxury       4\n",
       "15             Basic       18\n",
       "               Luxury       8\n",
       "16             Basic       19\n",
       "               Luxury       3\n",
       "17             Basic       26\n",
       "               Luxury       4\n",
       "18             Basic       21\n",
       "               Luxury       4\n",
       "19             Basic       24\n",
       "               Luxury       3\n",
       "20             Basic       26\n",
       "               Luxury       5\n",
       "21             Basic       31\n",
       "               Luxury       6\n",
       "22             Basic       19\n",
       "               Luxury       4\n",
       "23             Basic       31\n",
       "               Luxury       3\n",
       "24             Basic       23\n",
       "               Luxury       4\n",
       "25             Basic       15\n",
       "26             Basic       25\n",
       "               Luxury       3\n",
       "27             Basic       22\n",
       "               Luxury       6\n",
       "28             Basic       20\n",
       "               Luxury       5\n",
       "29             Basic       18\n",
       "               Luxury       1\n",
       "30             Basic       20\n",
       "               Luxury       1\n",
       "31             Basic       18\n",
       "               Luxury       6\n",
       "32             Basic       20\n",
       "               Luxury      10\n",
       "33             Basic       28\n",
       "               Luxury       2\n",
       "34             Basic       18\n",
       "               Luxury       1\n",
       "35             Basic       22\n",
       "               Luxury       4\n",
       "36             Basic       17\n",
       "               Luxury       4\n",
       "37             Basic       19\n",
       "               Luxury       5\n",
       "38             Basic       21\n",
       "               Luxury       4\n",
       "39             Basic       14\n",
       "40             Basic       26\n",
       "               Luxury       3\n",
       "41             Basic       23\n",
       "               Luxury       5\n",
       "42             Basic       21\n",
       "               Luxury       2\n",
       "43             Basic       27\n",
       "               Luxury       4\n",
       "44             Basic       26\n",
       "               Luxury       3\n",
       "45             Basic       22\n",
       "46             Basic       19\n",
       "               Luxury       3\n",
       "47             Basic       18\n",
       "               Luxury       5\n",
       "48             Basic       23\n",
       "               Luxury       2\n",
       "49             Basic       19\n",
       "               Luxury       2\n",
       "50             Basic       26\n",
       "               Luxury       4\n",
       "51             Basic       19\n",
       "               Luxury       2\n",
       "52             Basic       18\n",
       "               Luxury       2\n",
       "53             Basic       25\n",
       "               Luxury       3\n",
       "54             Basic       25\n",
       "               Luxury       1\n",
       "55             Basic       26\n",
       "               Luxury       4\n",
       "56             Basic       18\n",
       "57             Basic       28\n",
       "               Luxury       2\n",
       "58             Basic       32\n",
       "               Luxury       5\n",
       "59             Basic       20\n",
       "               Luxury       2\n",
       "60             Basic       19\n",
       "               Luxury       2\n",
       "61             Basic       18\n",
       "               Luxury       7\n",
       "62             Basic       18\n",
       "               Luxury       1\n",
       "63             Basic       22\n",
       "               Luxury       3\n",
       "64             Basic       23\n",
       "               Luxury       6\n",
       "65             Basic       26\n",
       "               Luxury       4\n",
       "66             Basic       21\n",
       "               Luxury       2\n",
       "67             Basic       14\n",
       "               Luxury       1\n",
       "68             Basic       22\n",
       "               Luxury       3\n",
       "69             Basic       23\n",
       "               Luxury       6\n",
       "70             Basic       19\n",
       "               Luxury       2\n",
       "71             Basic       30\n",
       "               Luxury       7\n",
       "72             Basic       13\n",
       "               Luxury       4\n",
       "73             Basic       23\n",
       "               Luxury       6\n",
       "74             Basic       22\n",
       "               Luxury       4\n",
       "75             Basic       21\n",
       "               Luxury       2\n",
       "76             Basic       17\n",
       "               Luxury       5\n",
       "77             Basic       20\n",
       "               Luxury       1\n",
       "78             Basic       19\n",
       "               Luxury       3\n",
       "79             Basic       24\n",
       "               Luxury       4\n",
       "80             Basic       23\n",
       "               Luxury       2\n",
       "81             Basic       29\n",
       "               Luxury       1\n",
       "82             Basic       23\n",
       "               Luxury       2\n",
       "83             Basic       27\n",
       "               Luxury       5\n",
       "84             Basic       28\n",
       "               Luxury       1\n",
       "85             Basic       15\n",
       "               Luxury       2\n",
       "86             Basic       18\n",
       "               Luxury       5\n",
       "87             Basic       19\n",
       "               Luxury       3\n",
       "88             Basic       21\n",
       "               Luxury       3\n",
       "89             Basic       28\n",
       "               Luxury       4\n",
       "90             Basic       23\n",
       "               Luxury       2\n",
       "91             Basic       19\n",
       "               Luxury       4\n",
       "92             Basic       16\n",
       "               Luxury       2\n",
       "93             Basic       15\n",
       "               Luxury       1\n",
       "94             Basic       19\n",
       "               Luxury       1\n",
       "95             Basic       21\n",
       "               Luxury       3\n",
       "96             Basic       26\n",
       "               Luxury       5\n",
       "97             Basic       16\n",
       "               Luxury       2\n",
       "98             Basic       26\n",
       "               Luxury       1\n",
       "99             Basic       25\n",
       "               Luxury       3\n",
       "100            Basic       31\n",
       "               Luxury       6\n",
       "Name: category, dtype: int64"
      ]
     },
     "metadata": {},
     "output_type": "display_data"
    }
   ],
   "source": [
    "#here we look at the difference between the basic and luxury appartments when it comes to qty of rooms\n",
    "with pd.option_context(\"display.max_rows\", None):\n",
    "    display(df_rooms)"
   ]
  },
  {
   "cell_type": "code",
   "execution_count": 13,
   "metadata": {},
   "outputs": [],
   "source": [
    "#here we drop the category column\n",
    "df['category'] = pd.factorize(df['category'])[0] + 1\n",
    "dataset = df"
   ]
  },
  {
   "cell_type": "code",
   "execution_count": 14,
   "metadata": {},
   "outputs": [
    {
     "data": {
      "text/plain": [
       "<AxesSubplot:>"
      ]
     },
     "execution_count": 14,
     "metadata": {},
     "output_type": "execute_result"
    },
    {
     "data": {
      "image/png": "[encoded data removed]",
      "text/plain": [
       "<Figure size 1080x360 with 2 Axes>"
      ]
     },
     "metadata": {
      "needs_background": "light"
     },
     "output_type": "display_data"
    }
   ],
   "source": [
    "#we create a heatmap to see which categories influence the price of house\n",
    "corr = dataset.corr()\n",
    "#we choose the size of the figure \n",
    "fig, ax = plt.subplots(figsize=(15, 5))\n",
    "#choosing the color of the heatmap with annotation\n",
    "sns.heatmap(corr, cmap='RdBu', annot=True, fmt=\".2f\")\n"
   ]
  },
  {
   "cell_type": "code",
   "execution_count": 15,
   "metadata": {},
   "outputs": [
    {
     "data": {
      "image/png": "[encoded data removed]",
      "text/plain": [
       "<Figure size 360x360 with 1 Axes>"
      ]
     },
     "metadata": {
      "needs_background": "light"
     },
     "output_type": "display_data"
    }
   ],
   "source": [
    "#we plot the squaremeters and the price \n",
    "fig, ax1 = plt.subplots(figsize=(5, 5))\n",
    "sns.regplot(x=\"squareMeters\", y=\"price\", data=df);"
   ]
  },
  {
   "cell_type": "markdown",
   "metadata": {},
   "source": [
    "### from the correlation heatmap we can see that the square meter has a very strong correclation with the price of the houses"
   ]
  },
  {
   "cell_type": "code",
   "execution_count": 16,
   "metadata": {},
   "outputs": [
    {
     "data": {
      "text/plain": [
       "index                  int64\n",
       "squareMeters           int64\n",
       "numberOfRooms          int64\n",
       "hasYard                int64\n",
       "hasPool                int64\n",
       "floors                 int64\n",
       "cityCode               int64\n",
       "cityPartRange          int64\n",
       "numPrevOwners          int64\n",
       "made                   int64\n",
       "isNewBuilt             int64\n",
       "hasStormProtector      int64\n",
       "basement               int64\n",
       "attic                  int64\n",
       "garage                 int64\n",
       "hasStorageRoom         int64\n",
       "hasGuestRoom           int64\n",
       "price                float64\n",
       "category               int64\n",
       "dtype: object"
      ]
     },
     "execution_count": 16,
     "metadata": {},
     "output_type": "execute_result"
    }
   ],
   "source": [
    "df.dtypes"
   ]
  },
  {
   "cell_type": "code",
   "execution_count": 17,
   "metadata": {},
   "outputs": [],
   "source": [
    "#we try different models "
   ]
  },
  {
   "cell_type": "code",
   "execution_count": 18,
   "metadata": {},
   "outputs": [],
   "source": [
    "def read_dataframe(filename):\n",
    "    #we read the file\n",
    "    if filename.endswith('.parquet'):\n",
    "        df = pd.read_parquet(filename)\n",
    "    #we are using the squaremeter as feature for the model\n",
    "    return  df    "
   ]
  },
  {
   "cell_type": "code",
   "execution_count": 19,
   "metadata": {},
   "outputs": [],
   "source": [
    "#we you period 1 as our training dataset \n",
    "i = 1\n",
    "input_file = f\"s3://mlops-project-dataset-deen/paris-housing-dataset/ParisHousing_period_{i:02d}.parquet\"\n",
    "df_train = read_dataframe(input_file)"
   ]
  },
  {
   "cell_type": "code",
   "execution_count": 20,
   "metadata": {},
   "outputs": [],
   "source": [
    "#we use period 2 as our validation dataset\n",
    "i = 2\n",
    "file = f\"s3://mlops-project-dataset-deen/paris-housing-dataset/ParisHousing_period_{i:02d}.parquet\"\n",
    "df_val = read_dataframe(file)"
   ]
  },
  {
   "cell_type": "code",
   "execution_count": 21,
   "metadata": {},
   "outputs": [],
   "source": [
    "#we choose the feature here \n",
    "categorical = ['squareMeters']\n",
    "df_train_data = df_train[categorical]\n",
    "df_val_data = df_val[categorical]"
   ]
  },
  {
   "cell_type": "code",
   "execution_count": 22,
   "metadata": {},
   "outputs": [],
   "source": [
    "#we convert the columns to a dictionary\n",
    "train_dicts = df_train_data[categorical].to_dict(orient='records')\n",
    "val_dicts = df_train_data[categorical].to_dict(orient='records')"
   ]
  },
  {
   "cell_type": "code",
   "execution_count": 23,
   "metadata": {},
   "outputs": [],
   "source": [
    "#dictionary to vector converter\n",
    "dv = DictVectorizer()\n",
    "\n",
    "#dictionary to vector conversion, here we use fit because its for training\n",
    "X_train = dv.fit_transform(train_dicts)\n",
    "\n",
    "#here we use transorm because its for validation\n",
    "X_val = dv.transform(val_dicts)"
   ]
  },
  {
   "cell_type": "code",
   "execution_count": 24,
   "metadata": {},
   "outputs": [],
   "source": [
    "#for this model, our interest is the price of the house \n",
    "target = 'price'\n",
    "y_train = df_train[target].values\n",
    "y_val = df_val[target].values"
   ]
  },
  {
   "cell_type": "code",
   "execution_count": 25,
   "metadata": {},
   "outputs": [
    {
     "data": {
      "text/plain": [
       "['squareMeters']"
      ]
     },
     "execution_count": 25,
     "metadata": {},
     "output_type": "execute_result"
    }
   ],
   "source": [
    "#to verify the feature used by the vectorizer \n",
    "dv.feature_names_"
   ]
  },
  {
   "cell_type": "code",
   "execution_count": 26,
   "metadata": {},
   "outputs": [],
   "source": [
    "#we check the shape of the matrix\n",
    "#X_train.shape"
   ]
  },
  {
   "cell_type": "code",
   "execution_count": 27,
   "metadata": {},
   "outputs": [
    {
     "data": {
      "text/html": [
       "<style>#sk-container-id-1 {color: black;background-color: white;}#sk-container-id-1 pre{padding: 0;}#sk-container-id-1 div.sk-toggleable {background-color: white;}#sk-container-id-1 label.sk-toggleable__label {cursor: pointer;display: block;width: 100%;margin-bottom: 0;padding: 0.3em;box-sizing: border-box;text-align: center;}#sk-container-id-1 label.sk-toggleable__label-arrow:before {content: \"▸\";float: left;margin-right: 0.25em;color: #696969;}#sk-container-id-1 label.sk-toggleable__label-arrow:hover:before {color: black;}#sk-container-id-1 div.sk-estimator:hover label.sk-toggleable__label-arrow:before {color: black;}#sk-container-id-1 div.sk-toggleable__content {max-height: 0;max-width: 0;overflow: hidden;text-align: left;background-color: #f0f8ff;}#sk-container-id-1 div.sk-toggleable__content pre {margin: 0.2em;color: black;border-radius: 0.25em;background-color: #f0f8ff;}#sk-container-id-1 input.sk-toggleable__control:checked~div.sk-toggleable__content {max-height: 200px;max-width: 100%;overflow: auto;}#sk-container-id-1 input.sk-toggleable__control:checked~label.sk-toggleable__label-arrow:before {content: \"▾\";}#sk-container-id-1 div.sk-estimator input.sk-toggleable__control:checked~label.sk-toggleable__label {background-color: #d4ebff;}#sk-container-id-1 div.sk-label input.sk-toggleable__control:checked~label.sk-toggleable__label {background-color: #d4ebff;}#sk-container-id-1 input.sk-hidden--visually {border: 0;clip: rect(1px 1px 1px 1px);clip: rect(1px, 1px, 1px, 1px);height: 1px;margin: -1px;overflow: hidden;padding: 0;position: absolute;width: 1px;}#sk-container-id-1 div.sk-estimator {font-family: monospace;background-color: #f0f8ff;border: 1px dotted black;border-radius: 0.25em;box-sizing: border-box;margin-bottom: 0.5em;}#sk-container-id-1 div.sk-estimator:hover {background-color: #d4ebff;}#sk-container-id-1 div.sk-parallel-item::after {content: \"\";width: 100%;border-bottom: 1px solid gray;flex-grow: 1;}#sk-container-id-1 div.sk-label:hover label.sk-toggleable__label {background-color: #d4ebff;}#sk-container-id-1 div.sk-serial::before {content: \"\";position: absolute;border-left: 1px solid gray;box-sizing: border-box;top: 0;bottom: 0;left: 50%;z-index: 0;}#sk-container-id-1 div.sk-serial {display: flex;flex-direction: column;align-items: center;background-color: white;padding-right: 0.2em;padding-left: 0.2em;position: relative;}#sk-container-id-1 div.sk-item {position: relative;z-index: 1;}#sk-container-id-1 div.sk-parallel {display: flex;align-items: stretch;justify-content: center;background-color: white;position: relative;}#sk-container-id-1 div.sk-item::before, #sk-container-id-1 div.sk-parallel-item::before {content: \"\";position: absolute;border-left: 1px solid gray;box-sizing: border-box;top: 0;bottom: 0;left: 50%;z-index: -1;}#sk-container-id-1 div.sk-parallel-item {display: flex;flex-direction: column;z-index: 1;position: relative;background-color: white;}#sk-container-id-1 div.sk-parallel-item:first-child::after {align-self: flex-end;width: 50%;}#sk-container-id-1 div.sk-parallel-item:last-child::after {align-self: flex-start;width: 50%;}#sk-container-id-1 div.sk-parallel-item:only-child::after {width: 0;}#sk-container-id-1 div.sk-dashed-wrapped {border: 1px dashed gray;margin: 0 0.4em 0.5em 0.4em;box-sizing: border-box;padding-bottom: 0.4em;background-color: white;}#sk-container-id-1 div.sk-label label {font-family: monospace;font-weight: bold;display: inline-block;line-height: 1.2em;}#sk-container-id-1 div.sk-label-container {text-align: center;}#sk-container-id-1 div.sk-container {/* jupyter's `normalize.less` sets `[hidden] { display: none; }` but bootstrap.min.css set `[hidden] { display: none !important; }` so we also need the `!important` here to be able to override the default hidden behavior on the sphinx rendered scikit-learn.org. See: https://github.com/scikit-learn/scikit-learn/issues/21755 */display: inline-block !important;position: relative;}#sk-container-id-1 div.sk-text-repr-fallback {display: none;}</style><div id=\"sk-container-id-1\" class=\"sk-top-container\"><div class=\"sk-text-repr-fallback\"><pre>LinearRegression()</pre><b>In a Jupyter environment, please rerun this cell to show the HTML representation or trust the notebook. <br />On GitHub, the HTML representation is unable to render, please try loading this page with nbviewer.org.</b></div><div class=\"sk-container\" hidden><div class=\"sk-item\"><div class=\"sk-estimator sk-toggleable\"><input class=\"sk-toggleable__control sk-hidden--visually\" id=\"sk-estimator-id-1\" type=\"checkbox\" checked><label for=\"sk-estimator-id-1\" class=\"sk-toggleable__label sk-toggleable__label-arrow\">LinearRegression</label><div class=\"sk-toggleable__content\"><pre>LinearRegression()</pre></div></div></div></div></div>"
      ],
      "text/plain": [
       "LinearRegression()"
      ]
     },
     "execution_count": 27,
     "metadata": {},
     "output_type": "execute_result"
    }
   ],
   "source": [
    "#we store the linear regression as regressor_linear\n",
    "regressor_linear = LinearRegression()\n",
    "#we fit the model\n",
    "regressor_linear.fit(X_train, y_train)"
   ]
  },
  {
   "cell_type": "code",
   "execution_count": 28,
   "metadata": {},
   "outputs": [],
   "source": [
    "#here we try to predict the values of y_val which is the house price\n",
    "#using the real x_train which is the squaremeters \n",
    "y_pred = regressor_linear.predict(X_val)"
   ]
  },
  {
   "cell_type": "code",
   "execution_count": 29,
   "metadata": {},
   "outputs": [
    {
     "data": {
      "text/plain": [
       "4137268.6811244194"
      ]
     },
     "execution_count": 29,
     "metadata": {},
     "output_type": "execute_result"
    }
   ],
   "source": [
    "#we compute the mean squared error between the predicted and the real values \n",
    "mean_squared_error(y_val, y_pred, squared=False)"
   ]
  },
  {
   "cell_type": "code",
   "execution_count": 30,
   "metadata": {},
   "outputs": [
    {
     "name": "stderr",
     "output_type": "stream",
     "text": [
      "/home/deen/anaconda3/envs/project/lib/python3.10/site-packages/seaborn/distributions.py:2619: FutureWarning: `distplot` is a deprecated function and will be removed in a future version. Please adapt your code to use either `displot` (a figure-level function with similar flexibility) or `histplot` (an axes-level function for histograms).\n",
      "  warnings.warn(msg, FutureWarning)\n",
      "/home/deen/anaconda3/envs/project/lib/python3.10/site-packages/seaborn/distributions.py:2619: FutureWarning: `distplot` is a deprecated function and will be removed in a future version. Please adapt your code to use either `displot` (a figure-level function with similar flexibility) or `histplot` (an axes-level function for histograms).\n",
      "  warnings.warn(msg, FutureWarning)\n"
     ]
    },
    {
     "data": {
      "text/plain": [
       "<matplotlib.legend.Legend at 0x7f3ffc2e4520>"
      ]
     },
     "execution_count": 30,
     "metadata": {},
     "output_type": "execute_result"
    },
    {
     "data": {
      "image/png": "[encoded data removed]",
      "text/plain": [
       "<Figure size 432x288 with 1 Axes>"
      ]
     },
     "metadata": {
      "needs_background": "light"
     },
     "output_type": "display_data"
    }
   ],
   "source": [
    "#we get the graphical view of the house we predicted and compare it with the actual house price \n",
    "sns.distplot(y_pred, label='prediction')\n",
    "sns.distplot(y_train, label='actual')\n",
    "\n",
    "plt.legend()"
   ]
  },
  {
   "cell_type": "code",
   "execution_count": 31,
   "metadata": {},
   "outputs": [],
   "source": [
    "#we create a folder called models\n",
    "#!mkdir models"
   ]
  },
  {
   "cell_type": "code",
   "execution_count": 32,
   "metadata": {},
   "outputs": [
    {
     "data": {
      "text/plain": [
       "4137268.681124121"
      ]
     },
     "execution_count": 32,
     "metadata": {},
     "output_type": "execute_result"
    }
   ],
   "source": [
    "#Using lasso regressor\n",
    "regressor_lasso = Lasso(alpha=0.012)\n",
    "#we fit the model\n",
    "regressor_lasso.fit(X_train, y_train)\n",
    "y_pred_1 = regressor_lasso.predict(X_train)\n",
    "\n",
    "\n",
    "mean_squared_error(y_val, y_pred_1, squared=False)"
   ]
  },
  {
   "cell_type": "code",
   "execution_count": 33,
   "metadata": {},
   "outputs": [
    {
     "data": {
      "text/plain": [
       "4137268.6811244055"
      ]
     },
     "execution_count": 33,
     "metadata": {},
     "output_type": "execute_result"
    }
   ],
   "source": [
    "#Using ridge regressor\n",
    "regressor_Ridge = Ridge(alpha=0.012)\n",
    "#we fit the model\n",
    "regressor_Ridge.fit(X_train, y_train)\n",
    "y_pred_2 = regressor_Ridge.predict(X_train)\n",
    "\n",
    "mean_squared_error(y_val, y_pred_2, squared=False)\n"
   ]
  },
  {
   "cell_type": "code",
   "execution_count": null,
   "metadata": {},
   "outputs": [],
   "source": []
  },
  {
   "cell_type": "code",
   "execution_count": null,
   "metadata": {},
   "outputs": [],
   "source": []
  },
  {
   "cell_type": "code",
   "execution_count": null,
   "metadata": {},
   "outputs": [],
   "source": []
  }
 ],
 "metadata": {
  "kernelspec": {
   "display_name": "Python 3 (ipykernel)",
   "language": "python",
   "name": "python3"
  },
  "language_info": {
   "codemirror_mode": {
    "name": "ipython",
    "version": 3
   },
   "file_extension": ".py",
   "mimetype": "text/x-python",
   "name": "python",
   "nbconvert_exporter": "python",
   "pygments_lexer": "ipython3",
   "version": "3.10.4"
  },
  "vscode": {
   "interpreter": {
    "hash": "47bf54faa575b1cf2d6e6d63d832051c4a7aa8061974c60fabf7dd68c5a45f9d"
   }
  }
 },
 "nbformat": 4,
 "nbformat_minor": 4
}
