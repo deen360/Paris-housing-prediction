{
 "cells": [
  {
   "cell_type": "code",
   "execution_count": 1,
   "metadata": {},
   "outputs": [],
   "source": [
    "import pandas as pd\n",
    "import s3fs\n",
    "from sklearn.metrics import mean_squared_error\n",
    "import pickle"
   ]
  },
  {
   "cell_type": "code",
   "execution_count": null,
   "metadata": {},
   "outputs": [],
   "source": [
    "#we read the model read the model\n"
   ]
  },
  {
   "cell_type": "code",
   "execution_count": null,
   "metadata": {},
   "outputs": [],
   "source": [
    "#we load the input\n",
    "def read_dataframe(filename):\n",
    "    if filename.endswith('.parquet'):\n",
    "        df = pd.read_parquet(filename)\n",
    "    return  df    "
   ]
  },
  {
   "cell_type": "code",
   "execution_count": null,
   "metadata": {},
   "outputs": [],
   "source": [
    "#we transform the model to a dictionary\n",
    "def preparing_features(input_file):\n",
    "    modelname = \"models/linear-reg\"\n",
    "    model = pickle.load(open(modelname,'rb'))\n",
    "\n",
    "    df_train = read_dataframe(input_file)\n",
    "\n",
    "    categorical = ['squareMeters']\n",
    "    df_train_data = df_train[categorical]\n",
    "    train_dicts = df_train_data[categorical].to_dict(orient='records')\n",
    "\n",
    "    X_train = dv.fit_transform(train_dicts)\n",
    "    target = 'price'\n",
    "    y_train = df_train[target].values\n",
    "\n",
    "    return X_train, y_train"
   ]
  },
  {
   "cell_type": "code",
   "execution_count": null,
   "metadata": {},
   "outputs": [],
   "source": [
    "#fitting the model\n",
    "def training_model(X_train, y_train):\n",
    "    #we import the model\n",
    "    modelname = \"models/linear-reg\"\n",
    "    model = pickle.load(open(modelname,'rb'))\n",
    "    #we fit the model\n",
    "    regressor_linear.fit(X_train, y_train)\n",
    "    \n",
    "    \n"
   ]
  }
 ],
 "metadata": {
  "kernelspec": {
   "display_name": "Python 3.8.10 ('code-HJcj6V1d')",
   "language": "python",
   "name": "python3"
  },
  "language_info": {
   "codemirror_mode": {
    "name": "ipython",
    "version": 3
   },
   "file_extension": ".py",
   "mimetype": "text/x-python",
   "name": "python",
   "nbconvert_exporter": "python",
   "pygments_lexer": "ipython3",
   "version": "3.8.10"
  },
  "vscode": {
   "interpreter": {
    "hash": "47bf54faa575b1cf2d6e6d63d832051c4a7aa8061974c60fabf7dd68c5a45f9d"
   }
  }
 },
 "nbformat": 4,
 "nbformat_minor": 4
}
