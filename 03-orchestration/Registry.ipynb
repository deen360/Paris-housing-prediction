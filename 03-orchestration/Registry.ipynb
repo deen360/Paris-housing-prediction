{
 "cells": [
  {
   "cell_type": "code",
   "execution_count": 56,
   "metadata": {},
   "outputs": [],
   "source": [
    "import mlflow"
   ]
  },
  {
   "cell_type": "code",
   "execution_count": 57,
   "metadata": {},
   "outputs": [],
   "source": [
    "#here we are trying to choose the best model from staging\n",
    "from mlflow.tracking import MlflowClient\n",
    "from datetime import datetime\n",
    "from mlflow.entities import ViewType\n",
    "import mlflow\n",
    "import pickle\n",
    "import pandas as pd\n",
    "from sklearn.metrics import mean_squared_error"
   ]
  },
  {
   "cell_type": "code",
   "execution_count": 58,
   "metadata": {},
   "outputs": [],
   "source": [
    "MLFLOW_TRACKING_URI = \"sqlite:///backend.db\""
   ]
  },
  {
   "cell_type": "code",
   "execution_count": 59,
   "metadata": {},
   "outputs": [
    {
     "data": {
      "text/plain": [
       "[<Experiment: artifact_location='artifacts_local/0', experiment_id='0', lifecycle_stage='active', name='Default', tags={}>,\n",
       " <Experiment: artifact_location='artifacts_local/1', experiment_id='1', lifecycle_stage='active', name='my-experiment-1', tags={}>]"
      ]
     },
     "execution_count": 59,
     "metadata": {},
     "output_type": "execute_result"
    }
   ],
   "source": [
    "client = MlflowClient(tracking_uri=MLFLOW_TRACKING_URI)\n",
    "\n",
    "#you can track runs and other stuffs like models\n",
    "#this lists the url under the client name\n",
    "client.list_experiments()"
   ]
  },
  {
   "cell_type": "code",
   "execution_count": 60,
   "metadata": {},
   "outputs": [],
   "source": [
    "\n",
    "runs = client.search_runs(\n",
    "    experiment_ids='1',\n",
    "    filter_string=\"metrics.rmse < 4137269\",\n",
    "    run_view_type=ViewType.ACTIVE_ONLY,\n",
    "    max_results=5,\n",
    "    order_by=[\"metrics.rmse ASC\"]\n",
    ")"
   ]
  },
  {
   "cell_type": "code",
   "execution_count": 61,
   "metadata": {},
   "outputs": [
    {
     "name": "stdout",
     "output_type": "stream",
     "text": [
      "run id: 88245f27c10d4e0e8e87db1c64f9a060, rmse: 3205.5839\n",
      "run id: 565aa5e1e52240c8af3076792392c0eb, rmse: 3205.5839\n",
      "run id: 9572f13a1e66443ba732808ecd3f8c53, rmse: 3205.5839\n",
      "run id: e8a9d2a541164be8b27d47b9e94d49ff, rmse: 3205.5839\n",
      "run id: a4faa2b38bb34086a775c042b70b3333, rmse: 3205.5839\n"
     ]
    }
   ],
   "source": [
    "#to show the result we stored, should give you the same result as sorting the mlflowui\n",
    "#when you sort in ascending order\n",
    "for run in runs:\n",
    "    print(f\"run id: {run.info.run_id}, rmse: {run.data.metrics['rmse']:.4f}\")"
   ]
  },
  {
   "cell_type": "code",
   "execution_count": 62,
   "metadata": {},
   "outputs": [],
   "source": [
    "#to promote some of these models to moderation\n",
    "mlflow.set_tracking_uri(MLFLOW_TRACKING_URI)"
   ]
  },
  {
   "cell_type": "code",
   "execution_count": 63,
   "metadata": {},
   "outputs": [],
   "source": [
    "#you dont need this, its for an experiment :)\n",
    "#here we just log all the top 5 models to the registry, with version 1 being the best\n",
    "#this should only be run once \n",
    "#it ws just used to make the loggings faster \n",
    "\n",
    "#for run in runs:\n",
    " #   run_id = f\"{run.info.run_id}\"\n",
    "  #  model_uri = f\"runs:/{run_id}/model\"\n",
    "   # mlflow.register_model(model_uri=model_uri, name=\"paris-model-registry\")\n"
   ]
  },
  {
   "cell_type": "code",
   "execution_count": 64,
   "metadata": {},
   "outputs": [
    {
     "name": "stderr",
     "output_type": "stream",
     "text": [
      "Registered model 'paris-model-registry' already exists. Creating a new version of this model...\n",
      "2022/08/15 12:33:21 INFO mlflow.tracking._model_registry.client: Waiting up to 300 seconds for model version to finish creation.                     Model name: paris-model-registry, version 4\n",
      "Created version '4' of model 'paris-model-registry'.\n"
     ]
    },
    {
     "data": {
      "text/plain": [
       "<ModelVersion: creation_timestamp=1660559601051, current_stage='None', description=None, last_updated_timestamp=1660559601051, name='paris-model-registry', run_id='565aa5e1e52240c8af3076792392c0eb', run_link=None, source='artifacts_local/1/565aa5e1e52240c8af3076792392c0eb/artifacts/model', status='READY', status_message=None, tags={}, user_id=None, version=4>"
      ]
     },
     "execution_count": 64,
     "metadata": {},
     "output_type": "execute_result"
    }
   ],
   "source": [
    "#the best run id chosen\n",
    "run_id = \"565aa5e1e52240c8af3076792392c0eb\"\n",
    "model_uri = f\"runs:/{run_id}/model\"\n",
    "mlflow.register_model(model_uri=model_uri, name=\"paris-model-registry\")"
   ]
  },
  {
   "cell_type": "code",
   "execution_count": 65,
   "metadata": {},
   "outputs": [
    {
     "data": {
      "text/plain": [
       "[<RegisteredModel: creation_timestamp=1660554846242, description=None, last_updated_timestamp=1660559601051, latest_versions=[<ModelVersion: creation_timestamp=1660554846280, current_stage='Staging', description=None, last_updated_timestamp=1660555167988, name='paris-model-registry', run_id='9572f13a1e66443ba732808ecd3f8c53', run_link=None, source='artifacts_local/1/9572f13a1e66443ba732808ecd3f8c53/artifacts/model', status='READY', status_message=None, tags={}, user_id=None, version=1>,\n",
       "  <ModelVersion: creation_timestamp=1660559601051, current_stage='None', description=None, last_updated_timestamp=1660559601051, name='paris-model-registry', run_id='565aa5e1e52240c8af3076792392c0eb', run_link=None, source='artifacts_local/1/565aa5e1e52240c8af3076792392c0eb/artifacts/model', status='READY', status_message=None, tags={}, user_id=None, version=4>,\n",
       "  <ModelVersion: creation_timestamp=1660555113571, current_stage='Production', description=None, last_updated_timestamp=1660555166626, name='paris-model-registry', run_id='565aa5e1e52240c8af3076792392c0eb', run_link=None, source='artifacts_local/1/565aa5e1e52240c8af3076792392c0eb/artifacts/model', status='READY', status_message=None, tags={}, user_id=None, version=3>], name='paris-model-registry', tags={}>]"
      ]
     },
     "execution_count": 65,
     "metadata": {},
     "output_type": "execute_result"
    }
   ],
   "source": [
    "#to check client list of registered models \n",
    "client.list_registered_models()"
   ]
  },
  {
   "cell_type": "code",
   "execution_count": 66,
   "metadata": {},
   "outputs": [
    {
     "name": "stdout",
     "output_type": "stream",
     "text": [
      "version: 1, stage: Staging\n",
      "version: 4, stage: None\n",
      "version: 3, stage: Production\n"
     ]
    }
   ],
   "source": [
    "model_name = \"paris-model-registry\"\n",
    "latest_versions = client.get_latest_versions(name=model_name)\n",
    "\n",
    "for version in latest_versions:\n",
    "    print(f\"version: {version.version}, stage: {version.current_stage}\")"
   ]
  },
  {
   "cell_type": "code",
   "execution_count": 67,
   "metadata": {},
   "outputs": [
    {
     "name": "stdout",
     "output_type": "stream",
     "text": [
      "The model version 3 was transitioned to Production on 2022-08-15\n"
     ]
    }
   ],
   "source": [
    "date = datetime.today().date()\n",
    "model_version = 3\n",
    "new_stage = \"Production\"\n",
    "client.transition_model_version_stage(\n",
    "    name=model_name,\n",
    "    version=model_version,\n",
    "    stage=new_stage,\n",
    "    archive_existing_versions=False,\n",
    ")\n",
    "print(f\"The model version {model_version} was transitioned to {new_stage} on {date}\")\n"
   ]
  },
  {
   "cell_type": "code",
   "execution_count": 68,
   "metadata": {},
   "outputs": [
    {
     "name": "stdout",
     "output_type": "stream",
     "text": [
      "The model version 1 was transitioned to staging on 2022-08-15\n"
     ]
    }
   ],
   "source": [
    "model_version = 1\n",
    "new_stage = \"staging\"\n",
    "client.transition_model_version_stage(\n",
    "    name=model_name,\n",
    "    version=model_version,\n",
    "    stage=new_stage,\n",
    "    archive_existing_versions=False\n",
    ")\n",
    "print(f\"The model version {model_version} was transitioned to {new_stage} on {date}\")\n"
   ]
  },
  {
   "cell_type": "code",
   "execution_count": 69,
   "metadata": {},
   "outputs": [
    {
     "name": "stdout",
     "output_type": "stream",
     "text": [
      "version: 1, stage: Staging\n",
      "version: 4, stage: None\n",
      "version: 3, stage: Production\n"
     ]
    }
   ],
   "source": [
    "#we chack again to ensure changes are made\n",
    "model_name = \"paris-model-registry\"\n",
    "latest_versions = client.get_latest_versions(name=model_name)\n",
    "\n",
    "for version in latest_versions:\n",
    "    print(f\"version: {version.version}, stage: {version.current_stage}\")"
   ]
  },
  {
   "cell_type": "code",
   "execution_count": 70,
   "metadata": {},
   "outputs": [],
   "source": [
    "#we can creat a new model and transition it"
   ]
  },
  {
   "cell_type": "code",
   "execution_count": 71,
   "metadata": {},
   "outputs": [],
   "source": [
    "#testing the model in production\n",
    "#we load the input\n",
    "def read_dataframe(filename):\n",
    "    if filename.endswith('.parquet'):\n",
    "        df = pd.read_parquet(filename)\n",
    "    return  df    "
   ]
  },
  {
   "cell_type": "code",
   "execution_count": 72,
   "metadata": {},
   "outputs": [],
   "source": [
    "#creating step for a new file \n",
    "#we transform the model to a dictionary\n",
    "def preparing_features(input_file, dv):\n",
    "\n",
    "    df_train = read_dataframe(input_file)\n",
    "    categorical = ['squareMeters']\n",
    "    df_train_data = df_train[categorical]\n",
    "    train_dicts = df_train_data[categorical].to_dict(orient='records')\n",
    "    X_test = dv.transform(train_dicts)\n",
    "    target = 'price'\n",
    "    y_test = df_train[target].values\n",
    "    return X_test , y_test"
   ]
  },
  {
   "cell_type": "code",
   "execution_count": 79,
   "metadata": {},
   "outputs": [],
   "source": [
    "def test_model(name, stage, X_test, y_test):\n",
    "    model = mlflow.pyfunc.load_model(f\"models:/{name}/{stage}\")\n",
    "    y_pred = model.predict(X_test)\n",
    "    print(y_pred)\n",
    "    return {\"rmse\": mean_squared_error(y_test, y_pred, squared=False)}"
   ]
  },
  {
   "cell_type": "code",
   "execution_count": 89,
   "metadata": {},
   "outputs": [],
   "source": [
    "\n",
    "#we import the model and the dict vectorizer\n",
    "dv, model = pickle.load(open(\"models/linear-reg\",'rb'))\n",
    "\n",
    "# note that 'i' is the period therefore the test period is period 3 \n",
    "i = 2\n",
    "input_file = f\"s3://mlops-project-dataset-deen/paris-housing-dataset/ParisHousing_period_{i:02d}.parquet\"\n",
    "\n",
    "X_test , y_test = preparing_features(input_file, dv)\n",
    "\n"
   ]
  },
  {
   "cell_type": "code",
   "execution_count": 90,
   "metadata": {},
   "outputs": [
    {
     "name": "stdout",
     "output_type": "stream",
     "text": [
      "[8427821.9946263  7324106.60799486 6672197.51988665 ... 5231577.43654765\n",
      "  765115.17066865 1706028.2877127 ]\n",
      "CPU times: user 25.1 ms, sys: 3.65 ms, total: 28.7 ms\n",
      "Wall time: 27.8 ms\n"
     ]
    },
    {
     "data": {
      "text/plain": [
       "{'rmse': 3205.5838721409696}"
      ]
     },
     "execution_count": 90,
     "metadata": {},
     "output_type": "execute_result"
    }
   ],
   "source": [
    "\n",
    "#to check model in production\n",
    "model_name = \"paris-model-registry\"\n",
    "%time test_model(name=model_name, stage=\"Production\", X_test=X_test, y_test=y_test)"
   ]
  },
  {
   "cell_type": "code",
   "execution_count": 91,
   "metadata": {},
   "outputs": [
    {
     "data": {
      "text/plain": [
       "array([8429482.7, 7320329.7, 6668307.7, ..., 5231126.5,  762915.5,\n",
       "       1708754.5])"
      ]
     },
     "execution_count": 91,
     "metadata": {},
     "output_type": "execute_result"
    }
   ],
   "source": [
    "y_test"
   ]
  },
  {
   "cell_type": "code",
   "execution_count": null,
   "metadata": {},
   "outputs": [],
   "source": []
  },
  {
   "cell_type": "code",
   "execution_count": null,
   "metadata": {},
   "outputs": [],
   "source": []
  }
 ],
 "metadata": {
  "kernelspec": {
   "display_name": "Python [conda env:project] *",
   "language": "python",
   "name": "conda-env-project-py"
  },
  "language_info": {
   "codemirror_mode": {
    "name": "ipython",
    "version": 3
   },
   "file_extension": ".py",
   "mimetype": "text/x-python",
   "name": "python",
   "nbconvert_exporter": "python",
   "pygments_lexer": "ipython3",
   "version": "3.10.4"
  }
 },
 "nbformat": 4,
 "nbformat_minor": 4
}
